{
 "cells": [
  {
   "cell_type": "code",
   "execution_count": 161,
   "metadata": {
    "scrolled": true
   },
   "outputs": [
    {
     "name": "stdout",
     "output_type": "stream",
     "text": [
      "\u001b[33mWARN: gym.spaces.Box autodetected dtype as <class 'numpy.float32'>. Please provide explicit dtype.\u001b[0m\n",
      "\u001b[33mWARN: gym.spaces.Box autodetected dtype as <class 'numpy.float32'>. Please provide explicit dtype.\u001b[0m\n",
      "action space Box(4,)\n",
      "sample action:  [-0.59272546 -0.16435435  0.8803483   0.2808096 ]\n",
      "observation space Box(24,)\n"
     ]
    },
    {
     "name": "stderr",
     "output_type": "stream",
     "text": [
      "/home/mquan/anaconda3/lib/python3.6/site-packages/gym/envs/registration.py:14: PkgResourcesDeprecationWarning: Parameters to load are deprecated.  Call .resolve and .require separately.\n",
      "  result = entry_point.load(False)\n"
     ]
    }
   ],
   "source": [
    "import gym\n",
    "import numpy as np\n",
    "import random\n",
    "import math\n",
    "from itertools import count\n",
    "\n",
    "import sklearn.pipeline\n",
    "import sklearn.preprocessing\n",
    "from sklearn.linear_model import SGDRegressor\n",
    "from sklearn.kernel_approximation import RBFSampler\n",
    "\n",
    "import matplotlib.pyplot as plt\n",
    "\n",
    "env = gym.make(\"BipedalWalker-v2\")\n",
    "\n",
    "print(\"action space\", env.action_space)\n",
    "print(\"sample action: \", env.action_space.sample())\n",
    "\n",
    "print(\"observation space\", env.observation_space)\n",
    "\n"
   ]
  },
  {
   "cell_type": "code",
   "execution_count": 38,
   "metadata": {
    "scrolled": true
   },
   "outputs": [
    {
     "name": "stdout",
     "output_type": "stream",
     "text": [
      "Episode 0 finishes\n",
      "Episode 1 finishes\n",
      "Episode 2 finishes\n",
      "Episode 3 finishes\n",
      "Episode 4 finishes\n",
      "Episode 5 finishes\n",
      "Episode 6 finishes\n",
      "Episode 7 finishes\n",
      "Episode 8 finishes\n",
      "Episode 9 finishes\n",
      "Episode 10 finishes\n",
      "Episode 11 finishes\n",
      "Episode 12 finishes\n",
      "Episode 13 finishes\n",
      "Episode 14 finishes\n",
      "Episode 15 finishes\n",
      "Episode 16 finishes\n",
      "Episode 17 finishes\n",
      "Episode 18 finishes\n",
      "Episode 19 finishes\n",
      "Episode 20 finishes\n",
      "Episode 21 finishes\n",
      "Episode 22 finishes\n",
      "Episode 23 finishes\n",
      "Episode 24 finishes\n",
      "Episode 25 finishes\n",
      "Episode 26 finishes\n",
      "Episode 27 finishes\n",
      "Episode 28 finishes\n",
      "Episode 29 finishes\n",
      "Episode 30 finishes\n",
      "Episode 31 finishes\n",
      "Episode 32 finishes\n",
      "Episode 33 finishes\n",
      "Episode 34 finishes\n",
      "Episode 35 finishes\n",
      "Episode 36 finishes\n",
      "Episode 37 finishes\n",
      "Episode 38 finishes\n",
      "Episode 39 finishes\n",
      "Episode 40 finishes\n",
      "Episode 41 finishes\n",
      "Episode 42 finishes\n",
      "Episode 43 finishes\n",
      "Episode 44 finishes\n",
      "Episode 45 finishes\n",
      "Episode 46 finishes\n",
      "Episode 47 finishes\n",
      "Episode 48 finishes\n",
      "Episode 49 finishes\n",
      "Episode 50 finishes\n",
      "Episode 51 finishes\n",
      "Episode 52 finishes\n",
      "Episode 53 finishes\n",
      "Episode 54 finishes\n",
      "Episode 55 finishes\n",
      "Episode 56 finishes\n",
      "Episode 57 finishes\n",
      "Episode 58 finishes\n",
      "Episode 59 finishes\n",
      "Episode 60 finishes\n",
      "Episode 61 finishes\n",
      "Episode 62 finishes\n",
      "Episode 63 finishes\n",
      "Episode 64 finishes\n",
      "Episode 65 finishes\n",
      "Episode 66 finishes\n",
      "Episode 67 finishes\n",
      "Episode 68 finishes\n",
      "Episode 69 finishes\n",
      "Episode 70 finishes\n",
      "Episode 71 finishes\n",
      "Episode 72 finishes\n",
      "Episode 73 finishes\n",
      "Episode 74 finishes\n",
      "Episode 75 finishes\n",
      "Episode 76 finishes\n",
      "Episode 77 finishes\n",
      "Episode 78 finishes\n",
      "Episode 79 finishes\n",
      "Episode 80 finishes\n",
      "Episode 81 finishes\n",
      "Episode 82 finishes\n",
      "Episode 83 finishes\n",
      "Episode 84 finishes\n",
      "Episode 85 finishes\n",
      "Episode 86 finishes\n",
      "Episode 87 finishes\n",
      "Episode 88 finishes\n",
      "Episode 89 finishes\n",
      "Episode 90 finishes\n",
      "Episode 91 finishes\n",
      "Episode 92 finishes\n",
      "Episode 93 finishes\n",
      "Episode 94 finishes\n",
      "Episode 95 finishes\n",
      "Episode 96 finishes\n",
      "Episode 97 finishes\n",
      "Episode 98 finishes\n",
      "Episode 99 finishes\n",
      "61422\n",
      "[ 0.58930759 -0.02899745  0.13794169 -0.09956856 -0.1896345   0.10324001\n",
      " -0.74273479  0.18942086  0.         -0.19190735  0.59785995 -0.62319243\n",
      " -1.05363297  1.         -0.00592643 -0.00599375 -0.0062035  -0.00658166\n",
      " -0.00718063 -0.00809965 -0.009534   -0.01191074 -0.01719975  0.        ]\n"
     ]
    }
   ],
   "source": [
    "# Create observation sample\n",
    "observation_sample = []\n",
    "for i_episode in range(100):\n",
    "    obs = env.reset()\n",
    "    observation_sample.append(obs)\n",
    "    done = False\n",
    "    while not done:\n",
    "        obs, reward, done, _ = env.step(env.action_space.sample())\n",
    "        observation_sample.append(obs)\n",
    "    print(\"Episode %d finishes\" % i_episode)\n",
    "    \n",
    "print(len(observation_sample))\n",
    "print(observation_sample[100] - observation_sample[300])"
   ]
  },
  {
   "cell_type": "markdown",
   "metadata": {},
   "source": [
    "# Policy Gradient Base Class - a Linear Function Approximator\n",
    "\\begin{equation*}\n",
    "f(s) = s^T w\n",
    "\\end{equation*}"
   ]
  },
  {
   "cell_type": "code",
   "execution_count": 162,
   "metadata": {},
   "outputs": [],
   "source": [
    "class LinearApprox(object):\n",
    "    def __init__(self, num_params, lr=1e-3):\n",
    "        '''\n",
    "        num_params: define len of weights vector of the linear model (used as either Actor or Critic)\n",
    "        lr: learning rate\n",
    "        '''\n",
    "        self.weights = np.zeros((num_params, 1))\n",
    "        self.alpha = lr\n",
    "        \n",
    "    def featurize(self):\n",
    "        raise NotImplementedError\n",
    "    \n",
    "    def cal(self, _input):\n",
    "        '''\n",
    "        Do the job of a linear function\n",
    "        '''\n",
    "        return _input.T.dot(self.weights)\n",
    "    \n",
    "    def update_weights(self, delta_weights):\n",
    "        self.weights += delta_weights\n",
    "        "
   ]
  },
  {
   "cell_type": "markdown",
   "metadata": {},
   "source": [
    "# Actor - Deterministic Policy\n",
    "\\begin{equation*}\n",
    "\\mu_{\\theta}(s) = \\phi(s)^T \\theta\n",
    "\\end{equation*}\n",
    "Gradient of $\\mu_{\\theta}$ w.r.t $\\theta$\n",
    "\\begin{equation*}\n",
    "\\nabla_{\\theta} \\mu_{\\theta}(s) = \\phi(s) \n",
    "\\end{equation*}\n",
    "## Note:\n",
    "$\\phi(s)$ has the size of $n \\times m$ ,with $n$ is the number of **policy parameters**, and $m$ is the **action space dimention**. \n",
    "The way $\\mu_{\\theta}$ is defined means each column of $\\phi(s)$ produced value of 1 dimension of the action space. Therefore, just like the case 1D action space, 1 column of $\\phi(s)$ needs 1 set of RBFSampler to form its own featurizer."
   ]
  },
  {
   "cell_type": "code",
   "execution_count": 163,
   "metadata": {},
   "outputs": [],
   "source": [
    "class Actor(LinearApprox):\n",
    "    def __init__(self, num_params, observation_examples, gamma_list, lr=1e-3):\n",
    "        super().__init__(num_params, lr=lr)\n",
    "        # define & normalize scaler\n",
    "        self.scaler = sklearn.preprocessing.StandardScaler()\n",
    "        self.scaler.fit(observation_examples)\n",
    "        # define featurizer\n",
    "        num_featurizers = 4  # featurizers per 1 action dimension\n",
    "        assert num_params % num_featurizers == 0\n",
    "        assert len(gamma_list) == num_featurizers * NUM_ACTIONS\n",
    "        num_components = num_params // num_featurizers  # components per 1 action dimension\n",
    "\n",
    "        self.featurizer = sklearn.pipeline.FeatureUnion([\n",
    "                        (str(i), RBFSampler(gamma=gamma_list[i], n_components=num_components))\n",
    "                        for i in range(num_featurizers * NUM_ACTIONS)])\n",
    "\n",
    "        self.featurizer.fit(self.scaler.transform(observation_examples))\n",
    "    \n",
    "    def featurize(self, state):\n",
    "        scaled = self.scaler.transform(state.reshape(1, -1))\n",
    "        return self.featurizer.transform(scaled)[0].reshape(NUM_ACTIONS, self.weights.shape[0]).T\n",
    "    \n",
    "    def cal(self, state):\n",
    "        return self.featurize(state).T.dot(self.weights)\n",
    "    \n",
    "    def update_weights(self, state, critic_weights):\n",
    "        self.weights += self.alpha * self.grad(state).dot(self.grad(state).T.dot(critic_weights)) \n",
    "    \n",
    "    def grad(self, state):\n",
    "        return self.featurize(state)\n",
    "        "
   ]
  },
  {
   "cell_type": "markdown",
   "metadata": {},
   "source": [
    "# Critic - Compatible Function with Deterministic Actor Critic\n",
    "\\begin{equation*}\n",
    "Q^w(s, a) = \\left(a - \\mu_{\\theta}(s) \\right)^T \\nabla_{\\theta} \\mu_{\\theta}(s)^T w + V^v(s)\n",
    "\\end{equation*}\n",
    "\n",
    "Features vector fo the linear Critic:\n",
    "\\begin{equation*}\n",
    "\\phi(s_t, a_t) = \\nabla_{\\theta}\\mu_{\\theta}(s_t)a_t\n",
    "\\end{equation*}"
   ]
  },
  {
   "cell_type": "code",
   "execution_count": 164,
   "metadata": {},
   "outputs": [],
   "source": [
    "class Critic(LinearApprox):\n",
    "    def __init__(self, num_params, lr=1e-3):\n",
    "        super().__init__(num_params, lr=lr)\n",
    "        \n",
    "    def featurize(self, state, action, _actor):\n",
    "        return _actor.grad(state).dot(action)\n",
    "    \n",
    "    def cal(self, state, action, _actor, _V):\n",
    "        return (action - _actor.cal(state)).T.dot(_actor.grad(state).T).dot(self.weights) + _V.cal(state)\n",
    "    \n",
    "    def update_weights(self, td_error, state, action, new_state, _actor, _U):\n",
    "        td_correction = GAMMA * self.featurize(new_state, _actor.cal(new_state), _actor) * \\\n",
    "                                self.featurize(state, action, _actor).T.dot(_U.weights)\n",
    "        self.weights += self.alpha * td_error * self.featurize(state, action, _actor) - self.alpha * td_correction\n",
    "    "
   ]
  },
  {
   "cell_type": "markdown",
   "metadata": {},
   "source": [
    "# State value function - The baseline\n",
    "\\begin{equation*}\n",
    "V^v(s) = \\phi(s)^T v\n",
    "\\end{equation*}\n",
    "\n",
    "Because $V^v(s)$ is a scalar represneting the value of state $s$, the features $\\phi(s)$ just need to be a vector."
   ]
  },
  {
   "cell_type": "code",
   "execution_count": 165,
   "metadata": {},
   "outputs": [],
   "source": [
    "class StateValueFunc(LinearApprox):\n",
    "    def __init__(self, num_params, observation_examples, gamma_list, lr=1e-3):\n",
    "        super().__init__(num_params, lr=lr)\n",
    "        # define & normalize scaler\n",
    "        self.scaler = sklearn.preprocessing.StandardScaler()\n",
    "        self.scaler.fit(observation_examples)\n",
    "        # define featurizer\n",
    "        num_featurizers = 4  # featurizers per 1 action dimension\n",
    "        assert num_params % num_featurizers == 0\n",
    "        assert len(gamma_list) == num_featurizers \n",
    "        num_components = num_params // num_featurizers  # components per 1 action dimension\n",
    "\n",
    "        self.featurizer = sklearn.pipeline.FeatureUnion([\n",
    "                        (str(i), RBFSampler(gamma=gamma_list[i], n_components=num_components))\n",
    "                        for i in range(num_featurizers)])\n",
    "\n",
    "        self.featurizer.fit(self.scaler.transform(observation_examples))\n",
    "    \n",
    "    def featurize(self, state):\n",
    "        scaled = self.scaler.transform(state.reshape(1, -1))\n",
    "        return self.featurizer.transform(scaled)[0].reshape(-1, 1)\n",
    "    \n",
    "    def cal(self, state):\n",
    "        return self.featurize(state).T.dot(self.weights)\n",
    "    \n",
    "    def update_weights(self, td_error, state, action, new_state, _critic, _actor, _U):\n",
    "        td_correction = GAMMA * self.featurize(new_state) * \\\n",
    "                                _critic.featurize(state, action, _actor).T.dot(_U.weights)\n",
    "        self.weights += self.alpha * td_error * self.featurize(state) - self.alpha * td_correction\n",
    "        "
   ]
  },
  {
   "cell_type": "markdown",
   "metadata": {},
   "source": [
    "# U - for calculating TD Correction"
   ]
  },
  {
   "cell_type": "code",
   "execution_count": 166,
   "metadata": {},
   "outputs": [],
   "source": [
    "class TDC(object):\n",
    "    def __init__(self, num_params, lr=1e-3):\n",
    "        self.weights = np.zeros((num_params,1))\n",
    "        self.alpha = lr\n",
    "    \n",
    "    def update_weights(self, td_error, state, action, _critic, _actor):\n",
    "        self.weights += self.alpha * (td_error - _critic.featurize(state, action, _actor).T.dot(self.weights)) * \\\n",
    "                                        _critic.featurize(state, action, _actor)\n",
    "        \n",
    "    "
   ]
  },
  {
   "cell_type": "code",
   "execution_count": 167,
   "metadata": {},
   "outputs": [
    {
     "name": "stdout",
     "output_type": "stream",
     "text": [
      "(3, 1) [[3]\n",
      " [2]\n",
      " [1]]\n"
     ]
    },
    {
     "data": {
      "text/plain": [
       "array([[6],\n",
       "       [4],\n",
       "       [2]])"
      ]
     },
     "execution_count": 167,
     "metadata": {},
     "output_type": "execute_result"
    }
   ],
   "source": [
    "# a = np.array([3, 2, 1, 0, -1, -2])\n",
    "# print(a)\n",
    "\n",
    "# n = 2\n",
    "# m = 3\n",
    "\n",
    "# print(a.reshape(m, n).T)\n",
    "\n",
    "# b = np.zeros(a.shape)\n",
    "# a.\\\n",
    "# dot(b.T)\n",
    "\n",
    "# _list = [5., 2., 1., 0.5]\n",
    "# init = _list\n",
    "# gamma_list = [init+(_list) for i in range(2)]\n",
    "# print(gamma_list)\n",
    "a = np.array([3, 2, 1])\n",
    "b = a.reshape(-1, 1)\n",
    "print(b.shape, b)\n",
    "b * (np.array([[2]]))\n"
   ]
  },
  {
   "cell_type": "markdown",
   "metadata": {},
   "source": [
    "# Hyperparameters"
   ]
  },
  {
   "cell_type": "code",
   "execution_count": 168,
   "metadata": {},
   "outputs": [],
   "source": [
    "NUM_ACTIONS = 4\n",
    "NUM_PARAMS = 4 * 15\n",
    "GAMMA = 0.99\n",
    "\n",
    "# statistic\n",
    "avg_reward_per_episode = []\n",
    "num_step_per_episode = []\n",
    "avg_l1_V_weights_per_episode = []"
   ]
  },
  {
   "cell_type": "markdown",
   "metadata": {},
   "source": [
    "# Behaviour Policy"
   ]
  },
  {
   "cell_type": "code",
   "execution_count": 169,
   "metadata": {},
   "outputs": [
    {
     "data": {
      "text/plain": [
       "array([[-0.23296585],\n",
       "       [-0.28322153],\n",
       "       [ 3.7057989 ]])"
      ]
     },
     "execution_count": 169,
     "metadata": {},
     "output_type": "execute_result"
    }
   ],
   "source": [
    "def behave_policy(_input):\n",
    "    return np.array([np.random.normal(_in) for _in in _input]).reshape(-1, 1)\n",
    "\n",
    "behave_policy(np.array([0, 1, 2]))"
   ]
  },
  {
   "cell_type": "markdown",
   "metadata": {},
   "source": [
    "# Training"
   ]
  },
  {
   "cell_type": "code",
   "execution_count": 181,
   "metadata": {
    "scrolled": true
   },
   "outputs": [
    {
     "name": "stdout",
     "output_type": "stream",
     "text": [
      "Episode 0\t TD error: -0.0226\n",
      "Episode 0 finish after 81 step due to -100.0\n",
      "----------------------------------------\n",
      "Episode 1\t TD error: -0.1804\n",
      "Episode 1 finish after 90 step due to -100.0\n",
      "----------------------------------------\n",
      "Episode 2\t TD error: -0.0443\n",
      "Episode 2\t TD error: -0.2660\n",
      "Episode 2\t TD error: -0.3777\n",
      "Episode 2\t TD error: -0.0201\n",
      "Episode 2\t TD error: -0.7676\n",
      "Episode 2\t TD error: -0.0209\n",
      "Episode 2\t TD error: 0.7400\n",
      "Episode 2\t TD error: -0.3547\n",
      "Episode 2 finish after 1600 step due to -0.1\n",
      "----------------------------------------\n",
      "Episode 3\t TD error: -0.3123\n",
      "Episode 3 finish after 93 step due to -100.0\n",
      "----------------------------------------\n",
      "Episode 4\t TD error: -0.4635\n",
      "Episode 4 finish after 85 step due to -100.0\n",
      "----------------------------------------\n",
      "Episode 5\t TD error: -0.1362\n",
      "Episode 5\t TD error: 0.6461\n",
      "Episode 5\t TD error: -0.9502\n",
      "Episode 5\t TD error: 0.1664\n",
      "Episode 5\t TD error: 0.0875\n",
      "Episode 5\t TD error: -0.7699\n",
      "Episode 5\t TD error: -0.1204\n",
      "Episode 5\t TD error: -0.3127\n",
      "Episode 5 finish after 1600 step due to -0.0\n",
      "----------------------------------------\n",
      "Episode 6\t TD error: -0.1432\n",
      "Episode 6 finish after 82 step due to -100.0\n",
      "----------------------------------------\n",
      "Episode 7\t TD error: 0.8685\n",
      "Episode 7 finish after 37 step due to -100.0\n",
      "----------------------------------------\n",
      "Episode 8\t TD error: -0.0422\n",
      "Episode 8\t TD error: -0.4590\n",
      "Episode 8\t TD error: -0.1737\n",
      "Episode 8\t TD error: -0.3661\n",
      "Episode 8\t TD error: 0.1830\n",
      "Episode 8\t TD error: -0.1755\n",
      "Episode 8\t TD error: -0.3816\n",
      "Episode 8\t TD error: 0.1810\n",
      "Episode 8 finish after 1600 step due to -0.1\n",
      "----------------------------------------\n",
      "Episode 9\t TD error: 0.1554\n",
      "Episode 9 finish after 93 step due to -100.0\n",
      "----------------------------------------\n",
      "Episode 10\t TD error: -0.1213\n",
      "Episode 10 finish after 85 step due to -100.0\n",
      "----------------------------------------\n",
      "Episode 11\t TD error: -0.6183\n",
      "Episode 11 finish after 85 step due to -100.0\n",
      "----------------------------------------\n",
      "Episode 12\t TD error: 0.3494\n",
      "Episode 12 finish after 60 step due to -100.0\n",
      "----------------------------------------\n",
      "Episode 13\t TD error: 0.1886\n",
      "Episode 13 finish after 114 step due to -100.0\n",
      "----------------------------------------\n",
      "Episode 14\t TD error: 0.0856\n",
      "Episode 14 finish after 63 step due to -100.0\n",
      "----------------------------------------\n",
      "Episode 15\t TD error: -1.0704\n",
      "Episode 15\t TD error: -0.0601\n",
      "Episode 15\t TD error: -0.1420\n",
      "Episode 15\t TD error: 1.2563\n",
      "Episode 15\t TD error: 0.5733\n",
      "Episode 15\t TD error: -0.2248\n",
      "Episode 15\t TD error: -0.0106\n",
      "Episode 15\t TD error: -0.4089\n",
      "Episode 15 finish after 1600 step due to -0.1\n",
      "----------------------------------------\n",
      "Episode 16\t TD error: -0.7599\n",
      "Episode 16\t TD error: -0.0931\n",
      "Episode 16\t TD error: -0.1806\n",
      "Episode 16\t TD error: -0.1620\n",
      "Episode 16\t TD error: -0.1108\n",
      "Episode 16\t TD error: -0.5248\n",
      "Episode 16\t TD error: 0.2575\n",
      "Episode 16\t TD error: -0.3864\n",
      "Episode 16 finish after 1600 step due to -0.3\n",
      "----------------------------------------\n",
      "Episode 17\t TD error: 0.0386\n",
      "Episode 17 finish after 169 step due to -100.0\n",
      "----------------------------------------\n",
      "Episode 18\t TD error: -0.2161\n",
      "Episode 18 finish after 102 step due to -100.0\n",
      "----------------------------------------\n",
      "Episode 19\t TD error: -0.3390\n",
      "Episode 19 finish after 77 step due to -100.0\n",
      "----------------------------------------\n",
      "Episode 20\t TD error: 0.4406\n",
      "Episode 20 finish after 67 step due to -100.0\n",
      "----------------------------------------\n",
      "Episode 21\t TD error: -0.0190\n",
      "Episode 21\t TD error: -0.4723\n",
      "Episode 21\t TD error: 0.3060\n",
      "Episode 21\t TD error: -0.1584\n",
      "Episode 21\t TD error: -0.2914\n",
      "Episode 21\t TD error: 0.0383\n",
      "Episode 21\t TD error: 0.4051\n",
      "Episode 21\t TD error: -0.0833\n",
      "Episode 21 finish after 1600 step due to -0.2\n",
      "----------------------------------------\n",
      "Episode 22\t TD error: 0.3103\n",
      "Episode 22 finish after 86 step due to -100.0\n",
      "----------------------------------------\n",
      "Episode 23\t TD error: -0.1294\n",
      "Episode 23\t TD error: -0.1960\n",
      "Episode 23\t TD error: -0.0698\n",
      "Episode 23\t TD error: -0.9317\n",
      "Episode 23\t TD error: -0.2344\n",
      "Episode 23\t TD error: 0.1215\n",
      "Episode 23\t TD error: 0.5158\n",
      "Episode 23\t TD error: -0.0399\n",
      "Episode 23 finish after 1600 step due to -0.2\n",
      "----------------------------------------\n",
      "Episode 24\t TD error: -0.1808\n",
      "Episode 24\t TD error: -0.0609\n",
      "Episode 24\t TD error: 0.3952\n",
      "Episode 24\t TD error: 0.3660\n",
      "Episode 24\t TD error: 0.0232\n",
      "Episode 24\t TD error: -0.1451\n",
      "Episode 24\t TD error: 0.2141\n",
      "Episode 24\t TD error: 0.0891\n",
      "Episode 24 finish after 1600 step due to 0.0\n",
      "----------------------------------------\n",
      "Episode 25\t TD error: -0.2986\n",
      "Episode 25\t TD error: -0.0327\n",
      "Episode 25\t TD error: -0.1604\n",
      "Episode 25\t TD error: 0.3846\n",
      "Episode 25\t TD error: 0.5887\n",
      "Episode 25\t TD error: -0.1861\n",
      "Episode 25\t TD error: -0.4348\n",
      "Episode 25\t TD error: -0.1030\n",
      "Episode 25 finish after 1600 step due to -0.1\n",
      "----------------------------------------\n",
      "Episode 26\t TD error: 0.0442\n",
      "Episode 26 finish after 57 step due to -100.0\n",
      "----------------------------------------\n",
      "Episode 27\t TD error: -0.2115\n",
      "Episode 27 finish after 67 step due to -100.0\n",
      "----------------------------------------\n",
      "Episode 28\t TD error: 0.6636\n",
      "Episode 28 finish after 59 step due to -100.0\n",
      "----------------------------------------\n",
      "Episode 29\t TD error: -0.3130\n",
      "Episode 29 finish after 84 step due to -100.0\n",
      "----------------------------------------\n",
      "Episode 30\t TD error: -0.2246\n",
      "Episode 30\t TD error: 0.1180\n",
      "Episode 30\t TD error: 0.4458\n",
      "Episode 30\t TD error: -0.0913\n",
      "Episode 30\t TD error: -0.1855\n",
      "Episode 30\t TD error: -0.0676\n",
      "Episode 30\t TD error: 0.2464\n",
      "Episode 30\t TD error: 0.1168\n",
      "Episode 30 finish after 1600 step due to -0.0\n",
      "----------------------------------------\n"
     ]
    }
   ],
   "source": [
    "a_gamma_list = [5., 2., 1., 0.5, 5., 2., 1., 0.5, 5., 2., 1., 0.5, 5., 2., 1., 0.5]\n",
    "# actor = Actor(NUM_PARAMS, observation_sample, a_gamma_list)\n",
    "# critic = Critic(NUM_PARAMS)\n",
    "# V = StateValueFunc(NUM_PARAMS, observation_sample, [5., 2., 1., 0.5]) \n",
    "# U = TDC(NUM_PARAMS)\n",
    "\n",
    "\n",
    "max_episode = 31\n",
    "\n",
    "for i_episode in range(max_episode):\n",
    "    reward_list = []\n",
    "    l1_V_weights = []\n",
    "    state = env.reset()\n",
    "    for step in count():\n",
    "        action = behave_policy(actor.cal(state))\n",
    "        new_state, reward, done, _ = env.step(action)\n",
    "        \n",
    "        # calculate td error\n",
    "        if not done:\n",
    "            td_target = reward + GAMMA * critic.cal(new_state, actor.cal(new_state), actor, V)\n",
    "        else:\n",
    "            td_target = reward\n",
    "        \n",
    "        td_error = td_target - critic.cal(state, action, actor, V)\n",
    "        \n",
    "        # update weights\n",
    "        actor.update_weights(state, critic.weights)\n",
    "        critic.update_weights(td_error, state, action, new_state, actor, U)\n",
    "        V.update_weights(td_error, state, action, new_state, critic, actor, U)\n",
    "        U.update_weights(td_error, state, action, critic, actor)\n",
    "        \n",
    "        reward_list.append(reward)\n",
    "        l1_V_weights.append(np.absolute(V.weights).sum())\n",
    "        if done:\n",
    "            print(\"Episode %d finish after %d step due to %.1f\" % (i_episode, step + 1, reward))\n",
    "            print(\"----------------------------------------\")\n",
    "            break\n",
    "        else:\n",
    "            if step % 200 == 0: print(\"Episode %d\\t TD error: %.4f\" % (i_episode, td_error))\n",
    "        \n",
    "        # Move on\n",
    "        state = new_state\n",
    "        \n",
    "    # calculate statistic\n",
    "    avg_reward_per_episode.append(np.mean(reward_list))\n",
    "    num_step_per_episode.append(step)\n",
    "    avg_l1_V_weights_per_episode.append(np.mean(l1_V_weights))\n",
    "        \n",
    "    "
   ]
  },
  {
   "cell_type": "code",
   "execution_count": 182,
   "metadata": {},
   "outputs": [
    {
     "data": {
      "image/png": "[encoded data removed]",
      "text/plain": [
       "<Figure size 432x288 with 3 Axes>"
      ]
     },
     "metadata": {
      "needs_background": "light"
     },
     "output_type": "display_data"
    }
   ],
   "source": [
    "plt.figure(1)\n",
    "plt.subplot(311)\n",
    "plt.plot(avg_reward_per_episode)\n",
    "plt.subplot(312)\n",
    "plt.plot(num_step_per_episode)\n",
    "plt.subplot(313)\n",
    "plt.plot(avg_l1_V_weights_per_episode)\n",
    "plt.show()"
   ]
  },
  {
   "cell_type": "code",
   "execution_count": 183,
   "metadata": {},
   "outputs": [
    {
     "name": "stdout",
     "output_type": "stream",
     "text": [
      "Episode 30 [ACTOR] Finish after 185 step\n",
      "-------------------------------------\n"
     ]
    },
    {
     "data": {
      "text/plain": [
       "185"
      ]
     },
     "execution_count": 183,
     "metadata": {},
     "output_type": "execute_result"
    }
   ],
   "source": [
    "def checkout_actor(_actor):\n",
    "    state = env.reset()\n",
    "    ans = 0\n",
    "    for step in count():\n",
    "        act = _actor.cal(state)\n",
    "        new_state, reward, done, _= env.step(act)\n",
    "        env.render()\n",
    "        if done:\n",
    "            print(\"Episode %d [ACTOR] Finish after %d step\" % (i_episode, step+1))\n",
    "            print(\"-------------------------------------\")\n",
    "            ans = step + 1\n",
    "            break\n",
    "        # Move on \n",
    "        state = new_state\n",
    "    return ans\n",
    "\n",
    "checkout_actor(actor)"
   ]
  },
  {
   "cell_type": "code",
   "execution_count": 184,
   "metadata": {},
   "outputs": [],
   "source": [
    "env.close()"
   ]
  },
  {
   "cell_type": "code",
   "execution_count": null,
   "metadata": {},
   "outputs": [],
   "source": []
  }
 ],
 "metadata": {
  "kernelspec": {
   "display_name": "Python 3",
   "language": "python",
   "name": "python3"
  },
  "language_info": {
   "codemirror_mode": {
    "name": "ipython",
    "version": 3
   },
   "file_extension": ".py",
   "mimetype": "text/x-python",
   "name": "python",
   "nbconvert_exporter": "python",
   "pygments_lexer": "ipython3",
   "version": "3.6.7"
  }
 },
 "nbformat": 4,
 "nbformat_minor": 2
}
