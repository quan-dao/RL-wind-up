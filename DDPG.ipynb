{
 "cells": [
  {
   "cell_type": "code",
   "execution_count": 87,
   "metadata": {},
   "outputs": [],
   "source": [
    "import gym\n",
    "import numpy as np\n",
    "import time\n",
    "\n",
    "import torch\n",
    "import torch.nn as nn\n",
    "import torch.nn.functional as F\n",
    "import torch.optim as optim\n",
    "import torchvision.transforms as T\n",
    "from PIL import Image\n",
    "\n",
    "import random\n",
    "from math import sqrt\n",
    "\n",
    "from itertools import count\n",
    "from collections import namedtuple\n",
    "\n",
    "import matplotlib\n",
    "import matplotlib.pyplot as plt\n",
    "\n",
    "# set up matplotlib\n",
    "is_ipython = 'inline' in matplotlib.get_backend()\n",
    "if is_ipython:\n",
    "    from IPython import display\n",
    "\n",
    "plt.ion()\n",
    "\n",
    "device = torch.device(\"cuda\" if torch.cuda.is_available() else \"cpu\")\n",
    "env = gym.make(\"LunarLanderContinuous-v2\")"
   ]
  },
  {
   "cell_type": "markdown",
   "metadata": {},
   "source": [
    "# Replay Buffer of Transition "
   ]
  },
  {
   "cell_type": "code",
   "execution_count": 88,
   "metadata": {},
   "outputs": [],
   "source": [
    "Transition = namedtuple('Transition', \n",
    "                       ('state', 'action', 'next_state', 'reward'))\n",
    "\n",
    "class ReplayBuffer(object):\n",
    "    def __init__(self, capacity):\n",
    "        self.capacity = capacity\n",
    "        self.memory = []\n",
    "    \n",
    "    def push(self, *args):\n",
    "        if len(self.memory) == self.capacity:\n",
    "            self.memory.pop()\n",
    "        \n",
    "        self.memory.insert(0, Transition(*args))\n",
    "        \n",
    "    def sample(self, batch_size):\n",
    "        return random.sample(self.memory, batch_size) # a list of element from self.memory\n",
    "    \n",
    "    def __len__(self):\n",
    "        return len(self.memory)"
   ]
  },
  {
   "cell_type": "markdown",
   "metadata": {},
   "source": [
    "# Critic - Q Function"
   ]
  },
  {
   "cell_type": "markdown",
   "metadata": {},
   "source": [
    "## Low-level information - Critic"
   ]
  },
  {
   "cell_type": "code",
   "execution_count": 89,
   "metadata": {},
   "outputs": [],
   "source": [
    "class Critic(nn.Module):\n",
    "    def __init__(self, state_dim, action_dim):\n",
    "        '''\n",
    "        2 Hidden layers\n",
    "        400 & 300 units each\n",
    "        action is only introduced in 2nd hidden layer\n",
    "        '''\n",
    "        super(Critic, self).__init__()\n",
    "        self.l1 = nn.Linear(state_dim, 400)\n",
    "        self.l2 = nn.Linear(400 + action_dim, 300)\n",
    "        self.l3 = nn.Linear(300, 1)\n",
    "        \n",
    "        # weight init\n",
    "        nn.init.uniform_(self.l1.weight, a=-1./sqrt(state_dim), b=1./sqrt(state_dim))\n",
    "        nn.init.uniform_(self.l2.weight, a=-1./sqrt(400 + action_dim), b=1./sqrt(400 + action_dim))\n",
    "        nn.init.uniform_(self.l3.weight, a=-3*1e-3, b=3*1e-3)\n",
    "        # bias init\n",
    "        nn.init.uniform_(self.l1.bias, a=-1./sqrt(state_dim), b=1./sqrt(state_dim))\n",
    "        nn.init.uniform_(self.l2.bias, a=-1./sqrt(400 + action_dim), b=1./sqrt(400 + action_dim))\n",
    "        nn.init.uniform_(self.l3.bias, a=-3*1e-3, b=3*1e-3)\n",
    "\n",
    "        \n",
    "    def forward(self, state, action):\n",
    "        x = F.relu(self.l1(state))\n",
    "        x = F.relu(self.l2(torch.cat([x, action], dim=1)))\n",
    "        x = self.l3(x)\n",
    "        return x"
   ]
  },
  {
   "cell_type": "markdown",
   "metadata": {},
   "source": [
    "## Pixels - Critic"
   ]
  },
  {
   "cell_type": "code",
   "execution_count": 90,
   "metadata": {},
   "outputs": [],
   "source": [
    "class PixelCritic(nn.Module):\n",
    "    def __init__(self, state_dim, action_dim, H_in, W_in):\n",
    "        super(PixelCritic, self).__init__()\n",
    "        self.conv1 = nn.Conv2d(3, 32, kernel_size=5, stride=1)\n",
    "        self.bn1 = nn.BatchNorm2d(32)\n",
    "        self.conv2 = nn.Conv2d(32, 32, kernel_size=5, stride=1)\n",
    "        self.bn2 = nn.BatchNorm2d(32)\n",
    "        self.conv3 = nn.Conv2d(32, 32, kernel_size=5, stride=2)\n",
    "        self.bn3 = nn.BatchNorm2d(32)\n",
    "        \n",
    "        def conv_size_out(size_in, stride=1, kernel_size=5, padding=0):\n",
    "            return (size_in + 2 * padding - (kernel_size - 1) - 1) // stride + 1\n",
    "        \n",
    "        conv_H_out = conv_size_out(conv_size_out(conv_size_out(H_in)), stride=2)\n",
    "        conv_W_out = conv_size_out(conv_size_out(conv_size_out(W_in)), stride=2)\n",
    "         \n",
    "        linear_input_size = conv_H_out * conv_W_out * 32 + action_dim\n",
    "        self.fcn1 = nn.Linear(linear_input_size, 200)  # action is included here\n",
    "        self.fcn2 = nn.Linear(200, 1)\n",
    "        \n",
    "        # weight init\n",
    "        fan_in = 32 * 5 * 5  # num_filters * filter_h * filer_w\n",
    "        nn.init.uniform_(self.conv1.weight, a=-1./sqrt(3*5*5), b = 1./sqrt(3*5*5))\n",
    "        nn.init.uniform_(self.conv2.weight, a=-1./sqrt(fan_in), b = 1./sqrt(fan_in))\n",
    "        nn.init.uniform_(self.conv3.weight, a=-1./sqrt(fan_in), b = 1./sqrt(fan_in))\n",
    "        nn.init.uniform_(self.fcn1.weight, a=-1./sqrt(linear_input_size), b=1./sqrt(linear_input_size))\n",
    "        nn.init.uniform_(self.fcn2.weight, a=-3*1e-4, b=3*1e-4)\n",
    "        #bias init\n",
    "        nn.init.uniform_(self.conv1.bias, a=-1./sqrt(3*5*5), b = 1./sqrt(3*5*5))\n",
    "        nn.init.uniform_(self.conv2.bias, a=-1./sqrt(fan_in), b = 1./sqrt(fan_in))\n",
    "        nn.init.uniform_(self.conv3.bias, a=-1./sqrt(fan_in), b = 1./sqrt(fan_in))\n",
    "        nn.init.uniform_(self.fcn1.bias, a=-1./sqrt(linear_input_size), b=1./sqrt(linear_input_size))\n",
    "        nn.init.uniform_(self.fcn2.bias, a=-3*1e-4, b=3*1e-4)\n",
    "    \n",
    "    def forward(self, state, action):\n",
    "        x = F.relu(self.bn1(self.conv1(state)))\n",
    "        x = F.relu(self.bn2(self.conv2(x)))\n",
    "        x = F.relu(self.bn3(self.conv3(x)))\n",
    "        fcn_x = F.relu(self.fcn1(torch.cat([x.reshape((x.size(0), -1)), action], dim=1)))\n",
    "        out = self.fcn2(fcn_x)\n",
    "        return out"
   ]
  },
  {
   "cell_type": "markdown",
   "metadata": {},
   "source": [
    "# Actor - Policy"
   ]
  },
  {
   "cell_type": "markdown",
   "metadata": {},
   "source": [
    "## Low-level Actor"
   ]
  },
  {
   "cell_type": "code",
   "execution_count": 91,
   "metadata": {},
   "outputs": [],
   "source": [
    "class Actor(nn.Module):\n",
    "    def __init__(self, state_dim, action_dim, sup_action):\n",
    "        super(Actor, self).__init__()\n",
    "        self.l1 = nn.Linear(state_dim, 400)\n",
    "        self.l2 = nn.Linear(400, 300)\n",
    "        self.l3 = nn.Linear(300, action_dim)\n",
    "        self.sup_action = sup_action  # suppermum of action space\n",
    "        \n",
    "        # weight init\n",
    "        nn.init.uniform_(self.l1.weight, a=-1./sqrt(state_dim), b=1./sqrt(state_dim))\n",
    "        nn.init.uniform_(self.l2.weight, a=-1./sqrt(400), b=1./sqrt(400))\n",
    "        nn.init.uniform_(self.l3.weight, a=-3*1e-3, b=3*1e-3)\n",
    "        # bias init\n",
    "        nn.init.uniform_(self.l1.bias, a=-1./sqrt(state_dim), b=1./sqrt(state_dim))\n",
    "        nn.init.uniform_(self.l2.bias, a=-1./sqrt(400), b=1./sqrt(400))\n",
    "        nn.init.uniform_(self.l3.bias, a=-3*1e-3, b=3*1e-3)\n",
    "    \n",
    "    def forward(self, state):\n",
    "        x = F.relu(self.l1(state))\n",
    "        x = F.relu(self.l2(x))\n",
    "        x = self.sup_action * torch.tanh(self.l3(x))\n",
    "        return x"
   ]
  },
  {
   "cell_type": "markdown",
   "metadata": {},
   "source": [
    "## Pixels Actor"
   ]
  },
  {
   "cell_type": "code",
   "execution_count": 92,
   "metadata": {},
   "outputs": [],
   "source": [
    "class PixelActor(nn.Module):\n",
    "    def __init__(self, state_dim, action_dim, sup_action, H_in, W_in):\n",
    "        super(PixelActor, self).__init__()\n",
    "        self.sup_action = sup_action\n",
    "        \n",
    "        self.conv1 = nn.Conv2d(3, 32, kernel_size=5, stride=1)\n",
    "        self.bn1 = nn.BatchNorm2d(32)\n",
    "        self.conv2 = nn.Conv2d(32, 32, kernel_size=5, stride=1)\n",
    "        self.bn2 = nn.BatchNorm2d(32)\n",
    "        self.conv3 = nn.Conv2d(32, 32, kernel_size=5, stride=2)\n",
    "        self.bn3 = nn.BatchNorm2d(32)\n",
    "        \n",
    "        def conv_size_out(size_in, stride=1, kernel_size=5, padding=0):\n",
    "            return (size_in + 2 * padding - (kernel_size - 1) - 1) // stride + 1\n",
    "        \n",
    "        conv_H_out = conv_size_out(conv_size_out(conv_size_out(H_in)), stride=2)\n",
    "        conv_W_out = conv_size_out(conv_size_out(conv_size_out(W_in)), stride=2)\n",
    "         \n",
    "        linear_input_size = conv_H_out * conv_W_out * 32\n",
    "        self.fcn1 = nn.Linear(linear_input_size, 200)  \n",
    "        self.fcn2 = nn.Linear(200, 1)\n",
    "        \n",
    "        # weight init\n",
    "        fan_in = 32 * 5 * 5  # num_filters * filter_h * filer_w\n",
    "        nn.init.uniform_(self.conv1.weight, a=-1./sqrt(3*5*5), b = 1./sqrt(3*5*5))\n",
    "        nn.init.uniform_(self.conv2.weight, a=-1./sqrt(fan_in), b = 1./sqrt(fan_in))\n",
    "        nn.init.uniform_(self.conv3.weight, a=-1./sqrt(fan_in), b = 1./sqrt(fan_in))\n",
    "        nn.init.uniform_(self.fcn1.weight, a=-1./sqrt(linear_input_size), b=1./sqrt(linear_input_size))\n",
    "        nn.init.uniform_(self.fcn2.weight, a=-3*1e-4, b=3*1e-4)\n",
    "        #bias init\n",
    "        nn.init.uniform_(self.conv1.bias, a=-1./sqrt(3*5*5), b = 1./sqrt(3*5*5))\n",
    "        nn.init.uniform_(self.conv2.bias, a=-1./sqrt(fan_in), b = 1./sqrt(fan_in))\n",
    "        nn.init.uniform_(self.conv3.bias, a=-1./sqrt(fan_in), b = 1./sqrt(fan_in))\n",
    "        nn.init.uniform_(self.fcn1.bias, a=-1./sqrt(linear_input_size), b=1./sqrt(linear_input_size))\n",
    "        nn.init.uniform_(self.fcn2.bias, a=-3*1e-4, b=3*1e-4)\n",
    "    \n",
    "    def forward(self, state):\n",
    "        x = F.relu(self.bn1(self.conv1(state)))\n",
    "        x = F.relu(self.bn2(self.conv2(x)))\n",
    "        x = F.relu(self.bn3(self.conv3(x)))\n",
    "        fcn_x = F.relu(self.fcn1(x.reshape((x.size(0), -1))))\n",
    "        out = torch.tanh(self.fcn2(fcn_x)) * self.sup_action\n",
    "        return out"
   ]
  },
  {
   "cell_type": "markdown",
   "metadata": {},
   "source": [
    "# DDPG (mainly everything)"
   ]
  },
  {
   "cell_type": "code",
   "execution_count": 93,
   "metadata": {},
   "outputs": [],
   "source": [
    "class DDPG(object):\n",
    "    def __init__(self, state_dim, action_dim, sup_action, memory_capacity, batch_size, H_in=None, W_in=None, \n",
    "                 gamma=0.99, critic_lr=1e-3, actor_lr=1e-4, polyak=0.999):\n",
    "        # critic\n",
    "#         self.critic = Critic(state_dim, action_dim).to(device)\n",
    "        self.critic = PixelCritic(state_dim, action_dim, H_in, W_in).to(device)\n",
    "        self.critic_optimizer = optim.Adam(self.critic.parameters(), lr=critic_lr, weight_decay=1e-2)\n",
    "        \n",
    "#         self.critic_target = Critic(state_dim, action_dim).to(device)\n",
    "        self.critic_target = PixelCritic(state_dim, action_dim, H_in, W_in).to(device)\n",
    "        self.critic_target.load_state_dict(self.critic.state_dict())\n",
    "\n",
    "        # actor\n",
    "#         self.actor = Actor(state_dim, action_dim, sup_action).to(device)\n",
    "        self.actor = PixelActor(state_dim, action_dim, sup_action, H_in, W_in).to(device)\n",
    "        self.actor_optimizer = optim.Adam(self.actor.parameters(), lr=actor_lr)\n",
    "        \n",
    "#         self.actor_target = Actor(state_dim, action_dim, sup_action).to(device)\n",
    "        self.actor_target = PixelActor(state_dim, action_dim, sup_action, H_in, W_in).to(device)\n",
    "        self.actor_target.load_state_dict(self.actor.state_dict())\n",
    "        \n",
    "        # replay buffer\n",
    "        self.replay_buffer = ReplayBuffer(memory_capacity)\n",
    "        # hyper parameters\n",
    "        self.BATCH_SIZE = batch_size\n",
    "        self.GAMMA = gamma\n",
    "        self.polyak = polyak\n",
    "    \n",
    "    def train(self, iteration):\n",
    "        avg_critic_loss = 0\n",
    "        avg_actor_loss = 0\n",
    "        for i in range(iteration):\n",
    "            # sample exp from replay buffer\n",
    "            transitions = self.replay_buffer.sample(self.BATCH_SIZE)\n",
    "            batch = Transition(*zip(*transitions))\n",
    "            # pull out index (i.e. mask) in the batch & next_state of transitions having next_state is not None\n",
    "            mask_nonFinal_next_states = torch.tensor(tuple(map(lambda s: s is not None, \n",
    "                                                              batch.next_state)), device=device, dtype=torch.uint8)\n",
    "            nonFinal_next_states = torch.cat([s for s in batch.next_state\n",
    "                                                 if s is not None])\n",
    "            # construct tensor of state, action, reward\n",
    "            states_batch = torch.cat(batch.state)\n",
    "            actions_batch = torch.cat(batch.action)\n",
    "            reward_batch = torch.cat(batch.reward)\n",
    "\n",
    "            # compute TD target\n",
    "            next_state_act_val = torch.zeros([self.BATCH_SIZE, 1], device=device)\n",
    "    #         print(self.actor_target(nonFinal_next_states))\n",
    "    #         print(\"nonFinal_next_states:\\n\", nonFinal_next_states)\n",
    "    #         print(\"critic output:\\n\",self.critic_target(nonFinal_next_states, \n",
    "    #                                                                         self.actor_target(nonFinal_next_states)))\n",
    "    #         print(\"mask_nonFinal_next_states:\\n\", mask_nonFinal_next_states)\n",
    "            next_state_act_val[mask_nonFinal_next_states] = self.critic_target(nonFinal_next_states, \n",
    "                                                                            self.actor_target(nonFinal_next_states))\n",
    "            td_target = reward_batch + self.GAMMA * next_state_act_val.detach()\n",
    "\n",
    "            critic_loss = F.mse_loss(self.critic(states_batch, actions_batch), td_target)  # MS of td_error\n",
    "            avg_critic_loss += critic_loss.item()\n",
    "            \n",
    "            # call optimizer of critic to minimize loss\n",
    "            self.critic_optimizer.zero_grad()\n",
    "            critic_loss.backward(retain_graph=True)\n",
    "            self.critic_optimizer.step()\n",
    "\n",
    "            # Update actor\n",
    "            actor_loss = -self.critic(states_batch, self.actor(states_batch)).mean() \n",
    "            avg_actor_loss += actor_loss.item()\n",
    "            \n",
    "            self.actor_optimizer.zero_grad()\n",
    "            actor_loss.backward()\n",
    "            self.actor_optimizer.step()\n",
    "\n",
    "            # Update target actor & target critic\n",
    "            with torch.no_grad():\n",
    "                for param, target_param in zip(self.critic.parameters(), self.critic_target.parameters()):\n",
    "                    target_param.data.copy_((1 - self.polyak) * param.data + self.polyak * target_param.data)\n",
    "\n",
    "                for param, target_param in zip(self.actor.parameters(), self.actor_target.parameters()):\n",
    "                    target_param.data.copy_((1 - self.polyak) * param.data + self.polyak * target_param.data)\n",
    "            \n",
    "            return avg_critic_loss/iteration, avg_actor_loss/iteration\n",
    "    \n",
    "    def select_action(self, state):\n",
    "#         state = torch.FloatTensor(state.reshape(1, -1)).to(device)\n",
    "#         return self.actor(state).cpu().data.numpy().flatten()\n",
    "        return self.actor(state)\n"
   ]
  },
  {
   "cell_type": "markdown",
   "metadata": {},
   "source": [
    "# Utilities"
   ]
  },
  {
   "cell_type": "code",
   "execution_count": 106,
   "metadata": {},
   "outputs": [],
   "source": [
    "def to_tensor(np_array):\n",
    "    '''\n",
    "    convert 1d np array to tensor (written as a row vector)\n",
    "    '''\n",
    "    return torch.FloatTensor(np_array.reshape(1, -1)).to(device)\n",
    "\n",
    "def checkout_actor(render=False):\n",
    "    state = env.reset()\n",
    "    state = to_tensor(state)\n",
    "    accu_reward = 0\n",
    "    for step in count():\n",
    "        action = agent.actor(state).detach()\n",
    "        \n",
    "        _act = action.cpu()\n",
    "        next_state, reward, done, _ = env.step(_act.data.numpy().flatten())\n",
    "        accu_reward += reward\n",
    "        next_state = to_tensor(next_state)\n",
    "        \n",
    "        if render:\n",
    "            env.render()\n",
    "        if done:\n",
    "            print(\"Episode %d [ACTOR] Finish after %d step\\tAccumulated reward:%.3f\" % (i_episode, step+1, accu_reward))\n",
    "            print(\"-------------------------------------\")\n",
    "            break\n",
    "        # Move on \n",
    "        state.data.copy_(next_state.data)\n",
    "    return accu_reward\n",
    "\n",
    "\n",
    "def checkout_pixelactor(render=False):\n",
    "    env.reset()\n",
    "    last_screen = get_screen()\n",
    "    current_screen = get_screen()\n",
    "    state = current_screen - last_screen\n",
    "    accu_reward = 0\n",
    "    for step in count():\n",
    "        action = agent.select_action(state).detach()\n",
    "        _act = action.cpu().data.numpy().flatten()\n",
    "        _act = np.random.normal(_act, act_noise).clip(env.action_space.low, env.action_space.high)\n",
    "        \n",
    "        # observe reward & next_state\n",
    "        _, reward, done, _ = env.step(_act)\n",
    "        if render:\n",
    "            env.render()\n",
    "        last_screen = current_screen\n",
    "        current_screen = get_screen()\n",
    "        \n",
    "        accu_reward += reward\n",
    "        if not done:\n",
    "            next_state = current_screen - last_screen\n",
    "        else:\n",
    "            next_state = None\n",
    "            print(\"Episode %d [ACTOR] Finish after %d step\\tAccumulated reward:%.3f\" % (i_episode, step+1, accu_reward))\n",
    "            print(\"-------------------------------------\")\n",
    "            break\n",
    "        # move on\n",
    "        state = next_state\n",
    "    return accu_reward\n",
    "\n",
    "# checkout_actor()\n",
    "# time.sleep(1)\n",
    "# env.close()"
   ]
  },
  {
   "cell_type": "code",
   "execution_count": 95,
   "metadata": {},
   "outputs": [
    {
     "data": {
      "image/png": "[encoded data removed]",
      "text/plain": [
       "<Figure size 432x288 with 1 Axes>"
      ]
     },
     "metadata": {
      "needs_background": "light"
     },
     "output_type": "display_data"
    },
    {
     "name": "stdout",
     "output_type": "stream",
     "text": [
      "torch.Size([1, 3, 40, 60])\n"
     ]
    }
   ],
   "source": [
    "resize = T.Compose([T.ToPILImage(),\n",
    "                    T.Resize((40, 60), interpolation=Image.CUBIC),\n",
    "                    T.ToTensor()])\n",
    "\n",
    "def get_screen():\n",
    "    screen = env.render(mode='rgb_array').transpose(2, 0, 1)  # arrange to torch order: CHW\n",
    "    # convert to float, rescale, convert to torch tensor\n",
    "    screen = np.ascontiguousarray(screen, dtype=np.float32) / 255\n",
    "    screen = torch.from_numpy(screen)\n",
    "    # resize, and add a batch dimension (NCHW)\n",
    "    return resize(screen).unsqueeze(0).to(device)\n",
    "\n",
    "\n",
    "env.reset()\n",
    "plt.figure()\n",
    "plt.imshow(get_screen().cpu().squeeze(0).permute(1, 2, 0).numpy(),\n",
    "           interpolation='none')\n",
    "plt.title('Example extracted screen')\n",
    "plt.show()\n",
    "\n",
    "_img = get_screen()\n",
    "print(_img.shape)\n",
    "\n",
    "env.close()"
   ]
  },
  {
   "cell_type": "markdown",
   "metadata": {},
   "source": [
    "# Training"
   ]
  },
  {
   "cell_type": "code",
   "execution_count": 102,
   "metadata": {},
   "outputs": [],
   "source": [
    "state_dim = env.observation_space.shape[0]\n",
    "action_dim = env.action_space.shape[0]\n",
    "sup_action = torch.Tensor(env.action_space.high).to(device)\n",
    "\n",
    "H_in = 40\n",
    "W_in = 60\n",
    "\n",
    "memory_capacity = int(1e6)\n",
    "batch_size = 64\n",
    "\n",
    "agent = DDPG(state_dim, action_dim, sup_action, memory_capacity, batch_size, H_in, W_in)\n",
    "\n",
    "actor_accumulated_reward = []"
   ]
  },
  {
   "cell_type": "markdown",
   "metadata": {},
   "source": [
    "## Training loop for pixels AC"
   ]
  },
  {
   "cell_type": "code",
   "execution_count": 107,
   "metadata": {},
   "outputs": [
    {
     "name": "stdout",
     "output_type": "stream",
     "text": [
      "Finish collecting experience after 0 episode\n",
      "Episode 0 [ACTOR] Finish after 61 step\tAccumulated reward:-590.265\n",
      "-------------------------------------\n",
      "Episode 5 [ACTOR] Finish after 52 step\tAccumulated reward:-462.649\n",
      "-------------------------------------\n",
      "Episode 10 [ACTOR] Finish after 51 step\tAccumulated reward:-447.363\n",
      "-------------------------------------\n",
      "Episode 15 [ACTOR] Finish after 83 step\tAccumulated reward:-199.995\n",
      "-------------------------------------\n",
      "Episode 20 [ACTOR] Finish after 59 step\tAccumulated reward:-73.477\n",
      "-------------------------------------\n",
      "Episode 25 [ACTOR] Finish after 82 step\tAccumulated reward:-110.496\n",
      "-------------------------------------\n",
      "Episode 30 [ACTOR] Finish after 74 step\tAccumulated reward:-551.712\n",
      "-------------------------------------\n",
      "Episode 35 [ACTOR] Finish after 94 step\tAccumulated reward:-292.423\n",
      "-------------------------------------\n",
      "Episode 40 [ACTOR] Finish after 102 step\tAccumulated reward:-737.700\n",
      "-------------------------------------\n",
      "Episode 45 [ACTOR] Finish after 135 step\tAccumulated reward:-644.633\n",
      "-------------------------------------\n",
      "Episode 50 [ACTOR] Finish after 128 step\tAccumulated reward:-605.835\n",
      "-------------------------------------\n",
      "Episode 55 [ACTOR] Finish after 107 step\tAccumulated reward:-685.546\n",
      "-------------------------------------\n",
      "Episode 60 [ACTOR] Finish after 122 step\tAccumulated reward:-267.252\n",
      "-------------------------------------\n",
      "Episode 65 [ACTOR] Finish after 134 step\tAccumulated reward:-445.346\n",
      "-------------------------------------\n",
      "Episode 70 [ACTOR] Finish after 131 step\tAccumulated reward:-361.839\n",
      "-------------------------------------\n",
      "Episode 75 [ACTOR] Finish after 83 step\tAccumulated reward:-209.301\n",
      "-------------------------------------\n",
      "Episode 80 [ACTOR] Finish after 106 step\tAccumulated reward:-637.116\n",
      "-------------------------------------\n",
      "Episode 85 [ACTOR] Finish after 88 step\tAccumulated reward:-68.492\n",
      "-------------------------------------\n",
      "Episode 90 [ACTOR] Finish after 130 step\tAccumulated reward:-307.710\n",
      "-------------------------------------\n",
      "Episode 95 [ACTOR] Finish after 112 step\tAccumulated reward:-648.061\n",
      "-------------------------------------\n",
      "Episode 100 [ACTOR] Finish after 80 step\tAccumulated reward:-250.718\n",
      "-------------------------------------\n"
     ]
    }
   ],
   "source": [
    "max_episode = 101\n",
    "max_random_action_steps = 3000\n",
    "random_action_steps = 0\n",
    "\n",
    "flag_collecting_exp = True\n",
    "\n",
    "act_noise = 0.075\n",
    "\n",
    "for i_episode in range(max_episode):\n",
    "    env.reset()\n",
    "    last_screen = get_screen()\n",
    "    current_screen = get_screen()\n",
    "    state = current_screen - last_screen\n",
    "    for step in count():\n",
    "        # Choose action\n",
    "        if random_action_steps < max_random_action_steps:\n",
    "            action = to_tensor(env.action_space.sample())\n",
    "            random_action_steps += 1\n",
    "        else:\n",
    "            action = agent.select_action(state)    \n",
    "        \n",
    "        # take action & observe next state & reward\n",
    "        _act = action.cpu().data.numpy().flatten()\n",
    "        _act = np.random.normal(_act, act_noise).clip(env.action_space.low, env.action_space.high)\n",
    "        \n",
    "        # observe reward & next_state\n",
    "        _, reward, done, _ = env.step(_act)\n",
    "        last_screen = current_screen\n",
    "        current_screen = get_screen()\n",
    "        \n",
    "        if not done:\n",
    "            next_state = current_screen - last_screen\n",
    "        else:\n",
    "            next_state = None\n",
    "                \n",
    "        reward = to_tensor(np.array([reward]))\n",
    "        \n",
    "        # update replay buffer\n",
    "        action = to_tensor(_act)\n",
    "        agent.replay_buffer.push(state, action, next_state, reward)\n",
    "        \n",
    "        # check if replay_buffer is enough for update\n",
    "        if not flag_collecting_exp:\n",
    "            avg_critic_loss, avg_actor_loss = agent.train(iteration=5)\n",
    "#             if step % 10 == 0:\n",
    "#                 print(\"Episode %d\\t Critic loss: %.3f\\t Actor loss: %.3f\" % (i_episode, avg_critic_loss, \n",
    "#                                                                              avg_actor_loss))\n",
    "        else:\n",
    "            if agent.replay_buffer.__len__() > max_random_action_steps:\n",
    "                flag_collecting_exp = False  # stop collecting experinences\n",
    "                print(\"Finish collecting experience after %d episode\" % i_episode)\n",
    "        \n",
    "        if done:\n",
    "#             _rew = reward.cpu()\n",
    "#             if not flag_collecting_exp:\n",
    "#                 print(\"Episode %d finish with reward = %.2f\" % (i_episode, _rew.data.numpy().flatten()))\n",
    "#                 print(\"------------------------------------------------\")\n",
    "            break\n",
    "        \n",
    "        # move on\n",
    "        state.data.copy_(next_state.data)\n",
    "    \n",
    "    if i_episode % 5 == 0 and not flag_collecting_exp:\n",
    "        actor_accumulated_reward.append(checkout_pixelactor())\n",
    "        "
   ]
  },
  {
   "cell_type": "code",
   "execution_count": 105,
   "metadata": {},
   "outputs": [
    {
     "name": "stdout",
     "output_type": "stream",
     "text": [
      "100\n"
     ]
    },
    {
     "data": {
      "text/plain": [
       "-867.2966126395414"
      ]
     },
     "execution_count": 105,
     "metadata": {},
     "output_type": "execute_result"
    }
   ],
   "source": [
    "print(i_episode)\n",
    "checkout_pixelactor()"
   ]
  },
  {
   "cell_type": "code",
   "execution_count": 108,
   "metadata": {},
   "outputs": [
    {
     "data": {
      "image/png": "[encoded data removed]",
      "text/plain": [
       "<Figure size 432x288 with 1 Axes>"
      ]
     },
     "metadata": {
      "needs_background": "light"
     },
     "output_type": "display_data"
    }
   ],
   "source": [
    "plt.figure(2)\n",
    "plt.plot(actor_accumulated_reward)\n",
    "plt.grid()\n",
    "plt.xlabel(\"Num episode\")\n",
    "plt.ylabel(\"Accumulated reward\")\n",
    "plt.show()"
   ]
  },
  {
   "cell_type": "markdown",
   "metadata": {},
   "source": [
    "## Training loop for low-level AC"
   ]
  },
  {
   "cell_type": "code",
   "execution_count": 25,
   "metadata": {
    "scrolled": true
   },
   "outputs": [
    {
     "name": "stdout",
     "output_type": "stream",
     "text": [
      "Finish collecting experience after 20 episode\n",
      "Episode 50 [ACTOR] Finish after 67 step\tAccumulated reward:-543.406\n",
      "-------------------------------------\n",
      "Episode 100 [ACTOR] Finish after 74 step\tAccumulated reward:-579.475\n",
      "-------------------------------------\n",
      "Episode 150 [ACTOR] Finish after 55 step\tAccumulated reward:-455.201\n",
      "-------------------------------------\n",
      "Episode 200 [ACTOR] Finish after 75 step\tAccumulated reward:-802.874\n",
      "-------------------------------------\n",
      "Episode 250 [ACTOR] Finish after 159 step\tAccumulated reward:-348.324\n",
      "-------------------------------------\n",
      "Episode 300 [ACTOR] Finish after 122 step\tAccumulated reward:-250.182\n",
      "-------------------------------------\n",
      "Episode 350 [ACTOR] Finish after 110 step\tAccumulated reward:-312.520\n",
      "-------------------------------------\n",
      "Episode 400 [ACTOR] Finish after 87 step\tAccumulated reward:-348.852\n",
      "-------------------------------------\n",
      "Episode 450 [ACTOR] Finish after 84 step\tAccumulated reward:-424.743\n",
      "-------------------------------------\n",
      "Episode 500 [ACTOR] Finish after 274 step\tAccumulated reward:-616.005\n",
      "-------------------------------------\n",
      "Episode 550 [ACTOR] Finish after 211 step\tAccumulated reward:-717.829\n",
      "-------------------------------------\n",
      "Episode 600 [ACTOR] Finish after 166 step\tAccumulated reward:-577.645\n",
      "-------------------------------------\n",
      "Episode 650 [ACTOR] Finish after 109 step\tAccumulated reward:-484.586\n",
      "-------------------------------------\n",
      "Episode 700 [ACTOR] Finish after 179 step\tAccumulated reward:-544.058\n",
      "-------------------------------------\n",
      "Episode 750 [ACTOR] Finish after 91 step\tAccumulated reward:-417.367\n",
      "-------------------------------------\n",
      "Episode 800 [ACTOR] Finish after 114 step\tAccumulated reward:-281.742\n",
      "-------------------------------------\n",
      "Episode 850 [ACTOR] Finish after 115 step\tAccumulated reward:-268.481\n",
      "-------------------------------------\n",
      "Episode 900 [ACTOR] Finish after 108 step\tAccumulated reward:-336.214\n",
      "-------------------------------------\n",
      "Episode 950 [ACTOR] Finish after 95 step\tAccumulated reward:-243.140\n",
      "-------------------------------------\n",
      "Episode 1000 [ACTOR] Finish after 80 step\tAccumulated reward:-38.051\n",
      "-------------------------------------\n"
     ]
    }
   ],
   "source": [
    "max_episode = 1001\n",
    "max_random_action_steps = 3000\n",
    "random_action_steps = 0\n",
    "\n",
    "flag_collecting_exp = True\n",
    "\n",
    "act_noise = 0.075\n",
    "\n",
    "for i_episode in range(max_episode):\n",
    "    state = env.reset()\n",
    "    state = to_tensor(state)\n",
    "    for step in count():\n",
    "        # Choose action\n",
    "        if random_action_steps < max_random_action_steps:\n",
    "            action = to_tensor(env.action_space.sample())\n",
    "            random_action_steps += 1\n",
    "        else:\n",
    "            action = agent.select_action(state)    \n",
    "        \n",
    "        # take action & observe next state & reward\n",
    "        _act = action.cpu().data.numpy().flatten()\n",
    "        _act = np.random.normal(_act, act_noise).clip(env.action_space.low, env.action_space.high)\n",
    "                                                                                             \n",
    "        next_state, reward, done, _ = env.step(_act)\n",
    "        next_state = to_tensor(next_state)\n",
    "        reward = to_tensor(np.array([reward]))\n",
    "        \n",
    "        # update replay buffer\n",
    "        action = to_tensor(_act)\n",
    "        agent.replay_buffer.push(state, action, next_state, reward)\n",
    "        \n",
    "        # check if replay_buffer is enough for update\n",
    "        if not flag_collecting_exp:\n",
    "            avg_critic_loss, avg_actor_loss = agent.train(iteration=15)\n",
    "        else:\n",
    "            if agent.replay_buffer.__len__() > max_random_action_steps:\n",
    "                flag_collecting_exp = False  # stop collecting experinences\n",
    "                print(\"Finish collecting experience after %d episode\" % i_episode)\n",
    "        \n",
    "        if done:\n",
    "#             _rew = reward.cpu()\n",
    "#             if not flag_collecting_exp:\n",
    "#                 print(\"Episode %d finish with reward = %.2f\" % (i_episode, _rew.data.numpy().flatten()))\n",
    "#                 print(\"------------------------------------------------\")\n",
    "            break\n",
    "        \n",
    "        # move on\n",
    "        state.data.copy_(next_state.data)\n",
    "    \n",
    "    if i_episode % 50 == 0 and not flag_collecting_exp:\n",
    "        actor_accumulated_reward.append(checkout_actor())\n",
    "        "
   ]
  },
  {
   "cell_type": "code",
   "execution_count": 26,
   "metadata": {},
   "outputs": [
    {
     "data": {
      "image/png": "[encoded data removed]",
      "text/plain": [
       "<Figure size 432x288 with 1 Axes>"
      ]
     },
     "metadata": {
      "needs_background": "light"
     },
     "output_type": "display_data"
    }
   ],
   "source": [
    "plt.figure(1)\n",
    "plt.plot(actor_accumulated_reward)\n",
    "plt.ylabel(\"Accumulated reward\")\n",
    "plt.xlabel(\"Episode\")\n",
    "plt.grid()\n",
    "plt.show()"
   ]
  },
  {
   "cell_type": "code",
   "execution_count": 32,
   "metadata": {},
   "outputs": [
    {
     "name": "stdout",
     "output_type": "stream",
     "text": [
      "Episode 1000 [ACTOR] Finish after 101 step\tAccumulated reward:2.492\n",
      "-------------------------------------\n"
     ]
    }
   ],
   "source": [
    "checkout_actor(True)\n",
    "\n",
    "time.sleep(1)\n",
    "env.close()"
   ]
  },
  {
   "cell_type": "code",
   "execution_count": 23,
   "metadata": {},
   "outputs": [],
   "source": [
    "# torch.save(agent.actor.state_dict(), 'lunarlander_ddpg_actor.pth')\n",
    "# torch.save(agent.critic.state_dict(), 'lunarlander_ddpg_critic.pth')"
   ]
  },
  {
   "cell_type": "code",
   "execution_count": null,
   "metadata": {},
   "outputs": [],
   "source": []
  }
 ],
 "metadata": {
  "kernelspec": {
   "display_name": "Python 3",
   "language": "python",
   "name": "python3"
  },
  "language_info": {
   "codemirror_mode": {
    "name": "ipython",
    "version": 3
   },
   "file_extension": ".py",
   "mimetype": "text/x-python",
   "name": "python",
   "nbconvert_exporter": "python",
   "pygments_lexer": "ipython3",
   "version": "3.6.7"
  }
 },
 "nbformat": 4,
 "nbformat_minor": 2
}
