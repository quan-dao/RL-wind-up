{
 "cells": [
  {
   "cell_type": "code",
   "execution_count": 57,
   "metadata": {},
   "outputs": [
    {
     "name": "stderr",
     "output_type": "stream",
     "text": [
      "/home/mquan/anaconda3/lib/python3.6/site-packages/gym/envs/registration.py:14: PkgResourcesDeprecationWarning: Parameters to load are deprecated.  Call .resolve and .require separately.\n",
      "  result = entry_point.load(False)\n"
     ]
    }
   ],
   "source": [
    "import gym\n",
    "import numpy as np\n",
    "\n",
    "import torch\n",
    "import torch.nn as nn\n",
    "import torch.nn.functional as F\n",
    "import torch.optim as optim\n",
    "\n",
    "import random\n",
    "from math import sqrt\n",
    "from collections import namedtuple\n",
    "from itertools import count\n",
    "\n",
    "import matplotlib.pyplot as plt\n",
    "\n",
    "device = torch.device(\"cuda\" if torch.cuda.is_available() else \"cpu\")\n",
    "\n",
    "env = gym.make(\"LunarLanderContinuous-v2\")"
   ]
  },
  {
   "cell_type": "markdown",
   "metadata": {},
   "source": [
    "# Actor"
   ]
  },
  {
   "cell_type": "code",
   "execution_count": 144,
   "metadata": {},
   "outputs": [],
   "source": [
    "class Actor(nn.Module):\n",
    "    def __init__(self, state_dim, action_dim, max_action):\n",
    "        super(Actor, self).__init__()\n",
    "        self.layer1 = nn.Linear(state_dim, 400)\n",
    "        self.layer2 = nn.Linear(400, 300)\n",
    "        self.layer3 = nn.Linear(300, action_dim)\n",
    "        \n",
    "        self.max_action = max_action\n",
    "        \n",
    "        # weight init\n",
    "        nn.init.uniform_(self.layer1.weight, -1./sqrt(state_dim), 1./sqrt(state_dim))\n",
    "        nn.init.uniform_(self.layer2.weight, -1./sqrt(400), 1./sqrt(400))\n",
    "        nn.init.uniform_(self.layer3.weight, -3*1e-3, 3*1e-3)\n",
    "        nn.init.uniform_(self.layer1.bias, -1./sqrt(state_dim), 1./sqrt(state_dim))\n",
    "        nn.init.uniform_(self.layer2.bias, -1./sqrt(400), 1./sqrt(400))\n",
    "        nn.init.uniform_(self.layer3.bias, -3*1e-3, 3*1e-3)\n",
    "    \n",
    "    def forward(self, state):\n",
    "        x = F.relu(self.layer1(state))\n",
    "        x = F.relu(self.layer2(x))\n",
    "        x = torch.tanh(self.layer3(x)) * self.max_action\n",
    "        return x\n",
    "        "
   ]
  },
  {
   "cell_type": "markdown",
   "metadata": {},
   "source": [
    "# Critic\n",
    "A feedforward network with 2 hiddens layer. \n",
    "* 1st layer: 400 units, 2nd layer: 300 units\n",
    "* Activation: first 2 layer ReLU, last layer: None\n",
    "\n",
    "Note: Action is included at the input to the first layer"
   ]
  },
  {
   "cell_type": "code",
   "execution_count": 145,
   "metadata": {},
   "outputs": [],
   "source": [
    "class Critic(nn.Module):\n",
    "    def __init__(self, state_dim, action_dim):\n",
    "        super(Critic, self).__init__()\n",
    "        self.layer1 = nn.Linear(state_dim + action_dim, 400)\n",
    "        self.layer2 = nn.Linear(400, 300)\n",
    "        self.layer3 = nn.Linear(300, 1)\n",
    "        \n",
    "        # weight init\n",
    "        nn.init.uniform_(self.layer1.weight, -1./sqrt(state_dim + action_dim), 1./sqrt(state_dim + action_dim))\n",
    "        nn.init.uniform_(self.layer2.weight, -1./sqrt(400), 1./sqrt(400))\n",
    "        nn.init.uniform_(self.layer3.weight, -3*1e-3, 3*1e-3)\n",
    "        nn.init.uniform_(self.layer1.bias, -1./sqrt(state_dim + action_dim), 1./sqrt(state_dim + action_dim))\n",
    "        nn.init.uniform_(self.layer2.bias, -1./sqrt(400), 1./sqrt(400))\n",
    "        nn.init.uniform_(self.layer3.bias, -3*1e-3, 3*1e-3)\n",
    "    \n",
    "    def forward(self, state, action):\n",
    "        x = F.relu(self.layer1(torch.cat([state, action], dim=1)))\n",
    "        x = F.relu(self.layer2(x))\n",
    "        x = self.layer3(x)\n",
    "        return x"
   ]
  },
  {
   "cell_type": "markdown",
   "metadata": {},
   "source": [
    "# Replay Buffer\n",
    "Replay Buffer is a list of Transitions. Transitions are named tuples having 4 fields:\n",
    "* state\n",
    "* action\n",
    "* reward\n",
    "* next state\n",
    "* done"
   ]
  },
  {
   "cell_type": "code",
   "execution_count": 146,
   "metadata": {},
   "outputs": [],
   "source": [
    "Transition = namedtuple('Transition', \n",
    "                        ['state', 'action', 'reward', 'next_state', 'done'])\n",
    "\n",
    "class ReplayBuffer(object):\n",
    "    def __init__(self, capacity):\n",
    "        self.capacity = capacity\n",
    "        self.memory = []\n",
    "    \n",
    "    def push(self, *args):\n",
    "        if self.is_full():\n",
    "            self.memory.pop()\n",
    "        self.memory.insert(0, Transition(*args))\n",
    "    \n",
    "    def is_full(self):\n",
    "        return len(self.memory) == self.capacity\n",
    "    \n",
    "    def sample(self, batch_size):\n",
    "        transit = random.sample(self.memory, batch_size)\n",
    "        return Transition(*zip(*transit))"
   ]
  },
  {
   "cell_type": "markdown",
   "metadata": {},
   "source": [
    "# TD3 class"
   ]
  },
  {
   "cell_type": "code",
   "execution_count": 147,
   "metadata": {},
   "outputs": [],
   "source": [
    "class TD3(object):\n",
    "    def __init__(self, state_dim, action_dim, max_action, min_action, capacity,\n",
    "                 learning_rate=1e-3, batch_size=100, tau=0.005, gamma=0.99):\n",
    "        self.max_action = max_action\n",
    "        self.min_action = min_action\n",
    "        self.gamma = gamma\n",
    "        self.tau = tau\n",
    "        # init critic\n",
    "        self.critic1 = Critic(state_dim, action_dim).to(device)\n",
    "        self.critic2 = Critic(state_dim, action_dim).to(device)\n",
    "        \n",
    "        self.critic1_optim = optim.Adam(self.critic1.parameters(), lr=learning_rate)\n",
    "        self.critic2_optim = optim.Adam(self.critic2.parameters(), lr=learning_rate)\n",
    "        \n",
    "        self.critic1_target = Critic(state_dim, action_dim).to(device)\n",
    "        self.critic1_target.load_state_dict(self.critic1.state_dict())\n",
    "        \n",
    "        self.critic2_target = Critic(state_dim, action_dim).to(device)\n",
    "        self.critic2_target.load_state_dict(self.critic2.state_dict())\n",
    "        \n",
    "        # init actor\n",
    "        self.actor = Actor(state_dim, action_dim, max_action).to(device)\n",
    "        self.actor_optim = optim.Adam(self.actor.parameters(), lr=learning_rate)\n",
    "        \n",
    "        self.actor_target = Actor(state_dim, action_dim, max_action).to(device)\n",
    "        self.actor_target.load_state_dict(self.actor.state_dict())\n",
    "        \n",
    "        self.replay_buffer = ReplayBuffer(capacity)\n",
    "        self.batch_size = batch_size\n",
    "    \n",
    "    def train(self, update_policy, iteration=1):\n",
    "        for it in range(iteration):\n",
    "            # sampe batch of transitions from replay memory\n",
    "            batch = self.replay_buffer.sample(self.batch_size)\n",
    "            state = torch.cat(batch.state)\n",
    "            action = torch.cat(batch.action)\n",
    "            reward = torch.cat(batch.reward)\n",
    "            next_state = torch.cat(batch.next_state)\n",
    "            d = torch.cat(batch.done)\n",
    "            \n",
    "            # compute target action\n",
    "            target_action = self.actor_target(next_state)\n",
    "            epsilon = np.random.normal(0, 0.2, size=list(target_action.shape)).clip(-0.5, 0.5) # create noise\n",
    "            target_action += torch.tensor(epsilon, device=device, dtype=torch.float)\n",
    "            target_action = torch.max(torch.min(target_action, self.max_action), self.min_action)  # clipped\n",
    "            \n",
    "            # compute Q_target\n",
    "            Q_target1 = self.critic1_target(next_state, target_action)\n",
    "            Q_target2 = self.critic2_target(next_state, target_action)\n",
    "            td_target = reward + self.gamma * (1 - d) * torch.min(Q_target1, Q_target2).detach()\n",
    "            \n",
    "            # update critic \n",
    "            critic1_loss = F.mse_loss(self.critic1(state, action), td_target)\n",
    "            self.critic1_optim.zero_grad()\n",
    "            critic1_loss.backward(retain_graph=True)\n",
    "            self.critic1_optim.step()\n",
    "            \n",
    "            critic2_loss = F.mse_loss(self.critic2(state, action), td_target)\n",
    "            self.critic2_optim.zero_grad()\n",
    "            critic2_loss.backward(retain_graph=True)\n",
    "            self.critic2_optim.step()\n",
    "            \n",
    "            if update_policy:\n",
    "                actor_loss = -self.critic1(state, self.actor(state)).mean()\n",
    "                self.actor_optim.zero_grad()\n",
    "                actor_loss.backward()\n",
    "                self.actor_optim.step()\n",
    "                \n",
    "                # Update target network\n",
    "                for param, target_param in zip(self.critic1.parameters(), self.critic1_target.parameters()):\n",
    "                    target_param.data.copy_(self.tau * param.data + (1 - self.tau) * target_param.data)\n",
    "                    \n",
    "                for param, target_param in zip(self.critic2.parameters(), self.critic2_target.parameters()):\n",
    "                    target_param.data.copy_(self.tau * param.data + (1 - self.tau) * target_param.data)\n",
    "                    \n",
    "                for param, target_param in zip(self.actor.parameters(), self.actor_target.parameters()):\n",
    "                    target_param.data.copy_(self.tau * param.data + (1 - self.tau) * target_param.data)\n",
    "    \n",
    "    def select_action(self, state, add_noise=True):\n",
    "        assert torch.is_tensor(state)\n",
    "        # passed the initial acting with random policy phase\n",
    "        action = self.actor(state)\n",
    "        if add_noise:\n",
    "            epsilon = np.random.normal(0, 0.1, size=list(action.shape))\n",
    "            action += torch.tensor(epsilon, device=device, dtype=torch.float)  # add noise\n",
    "        action = torch.max(torch.min(action, self.max_action), self.min_action)  # clipped\n",
    "        return action\n",
    "        "
   ]
  },
  {
   "cell_type": "markdown",
   "metadata": {},
   "source": [
    "# Utilities"
   ]
  },
  {
   "cell_type": "code",
   "execution_count": 148,
   "metadata": {},
   "outputs": [],
   "source": [
    "def to_tensor(np_array):\n",
    "    '''\n",
    "    convert 1d np array to tensor (written as a row vector)\n",
    "    '''\n",
    "    return torch.FloatTensor(np_array.reshape(1, -1)).to(device)\n",
    "\n",
    "def checkout_actor(render=False):\n",
    "    state = env.reset()\n",
    "    state = to_tensor(state)\n",
    "    accu_reward = 0\n",
    "    for step in count():\n",
    "        action = agent.select_action(state, add_noise=False)\n",
    "        \n",
    "        next_state, reward, done, _ = env.step(action.cpu().data.numpy().flatten())\n",
    "        \n",
    "        accu_reward += reward\n",
    "        next_state = to_tensor(next_state)\n",
    "        \n",
    "        if render:\n",
    "            env.render()\n",
    "            \n",
    "        if done:\n",
    "            print(\"Episode %d [ACTOR] Finish after %d step\\tAccumulated reward:%.3f\" % (i_episode, step+1, \n",
    "                                                                                        accu_reward))\n",
    "            print(\"-------------------------------------\")\n",
    "            break\n",
    "        # Move on \n",
    "        state.data.copy_(next_state.data)\n",
    "    return accu_reward"
   ]
  },
  {
   "cell_type": "markdown",
   "metadata": {},
   "source": [
    "# Initialize"
   ]
  },
  {
   "cell_type": "code",
   "execution_count": 149,
   "metadata": {},
   "outputs": [],
   "source": [
    "state_dim = env.observation_space.shape[0]\n",
    "action_dim = env.action_space.shape[0]\n",
    "\n",
    "max_action = torch.tensor(env.action_space.high, device=device, dtype=torch.float)\n",
    "min_action = torch.tensor(env.action_space.low, device=device, dtype=torch.float)\n",
    "\n",
    "capacity = int(1e6)\n",
    "\n",
    "agent = TD3(state_dim, action_dim, max_action, min_action, capacity, batch_size=100, tau=0.001)\n",
    "\n",
    "max_random_action_steps = 3000\n",
    "random_action_steps = 0\n",
    "flag_collecting_exp = True\n",
    "\n",
    "# statistic\n",
    "step_per_ep = []\n",
    "acc_reward_per_ep = []\n",
    "actor_acc_reward_per_ep = []"
   ]
  },
  {
   "cell_type": "markdown",
   "metadata": {},
   "source": [
    "## Training loop"
   ]
  },
  {
   "cell_type": "code",
   "execution_count": 159,
   "metadata": {
    "scrolled": true
   },
   "outputs": [
    {
     "name": "stdout",
     "output_type": "stream",
     "text": [
      "Episode 0 finishes after 84 step.\n",
      "-------------------------------------\n",
      "Episode 0 [ACTOR] Finish after 67 step\tAccumulated reward:-376.173\n",
      "-------------------------------------\n",
      "Episode 1 finishes after 73 step.\n",
      "-------------------------------------\n",
      "Episode 2 finishes after 82 step.\n",
      "-------------------------------------\n",
      "Episode 3 finishes after 67 step.\n",
      "-------------------------------------\n",
      "Episode 4 finishes after 80 step.\n",
      "-------------------------------------\n",
      "Episode 5 finishes after 69 step.\n",
      "-------------------------------------\n",
      "Episode 5 [ACTOR] Finish after 79 step\tAccumulated reward:-464.165\n",
      "-------------------------------------\n",
      "Episode 6 finishes after 78 step.\n",
      "-------------------------------------\n",
      "Episode 7 finishes after 60 step.\n",
      "-------------------------------------\n",
      "Episode 8 finishes after 58 step.\n",
      "-------------------------------------\n",
      "Episode 9 finishes after 75 step.\n",
      "-------------------------------------\n",
      "Episode 10 finishes after 76 step.\n",
      "-------------------------------------\n",
      "Episode 10 [ACTOR] Finish after 50 step\tAccumulated reward:-208.125\n",
      "-------------------------------------\n",
      "Episode 11 finishes after 61 step.\n",
      "-------------------------------------\n",
      "Episode 12 finishes after 86 step.\n",
      "-------------------------------------\n",
      "Episode 13 finishes after 73 step.\n",
      "-------------------------------------\n",
      "Episode 14 finishes after 58 step.\n",
      "-------------------------------------\n",
      "Episode 15 finishes after 68 step.\n",
      "-------------------------------------\n",
      "Episode 15 [ACTOR] Finish after 66 step\tAccumulated reward:-481.967\n",
      "-------------------------------------\n",
      "Episode 16 finishes after 53 step.\n",
      "-------------------------------------\n",
      "Episode 17 finishes after 97 step.\n",
      "-------------------------------------\n",
      "Episode 18 finishes after 68 step.\n",
      "-------------------------------------\n",
      "Episode 19 finishes after 57 step.\n",
      "-------------------------------------\n",
      "Episode 20 finishes after 51 step.\n",
      "-------------------------------------\n",
      "Episode 20 [ACTOR] Finish after 58 step\tAccumulated reward:-440.414\n",
      "-------------------------------------\n",
      "Episode 21 finishes after 49 step.\n",
      "-------------------------------------\n",
      "Episode 22 finishes after 77 step.\n",
      "-------------------------------------\n",
      "Episode 23 finishes after 59 step.\n",
      "-------------------------------------\n",
      "Episode 24 finishes after 49 step.\n",
      "-------------------------------------\n",
      "Episode 25 finishes after 50 step.\n",
      "-------------------------------------\n",
      "Episode 25 [ACTOR] Finish after 67 step\tAccumulated reward:-556.408\n",
      "-------------------------------------\n",
      "Episode 26 finishes after 79 step.\n",
      "-------------------------------------\n",
      "Episode 27 finishes after 56 step.\n",
      "-------------------------------------\n",
      "Episode 28 finishes after 78 step.\n",
      "-------------------------------------\n",
      "Episode 29 finishes after 53 step.\n",
      "-------------------------------------\n",
      "Episode 30 finishes after 78 step.\n",
      "-------------------------------------\n",
      "Episode 30 [ACTOR] Finish after 85 step\tAccumulated reward:-568.156\n",
      "-------------------------------------\n",
      "Episode 31 finishes after 52 step.\n",
      "-------------------------------------\n",
      "Episode 32 finishes after 81 step.\n",
      "-------------------------------------\n",
      "Episode 33 finishes after 60 step.\n",
      "-------------------------------------\n",
      "Episode 34 finishes after 61 step.\n",
      "-------------------------------------\n",
      "Episode 35 finishes after 50 step.\n",
      "-------------------------------------\n",
      "Episode 35 [ACTOR] Finish after 75 step\tAccumulated reward:-604.659\n",
      "-------------------------------------\n",
      "Episode 36 finishes after 82 step.\n",
      "-------------------------------------\n",
      "Episode 37 finishes after 55 step.\n",
      "-------------------------------------\n",
      "Episode 38 finishes after 53 step.\n",
      "-------------------------------------\n",
      "Episode 39 finishes after 70 step.\n",
      "-------------------------------------\n",
      "Episode 40 finishes after 55 step.\n",
      "-------------------------------------\n",
      "Episode 40 [ACTOR] Finish after 57 step\tAccumulated reward:-413.858\n",
      "-------------------------------------\n",
      "Episode 41 finishes after 48 step.\n",
      "-------------------------------------\n",
      "Episode 42 finishes after 57 step.\n",
      "-------------------------------------\n",
      "Episode 43 finishes after 102 step.\n",
      "-------------------------------------\n",
      "Episode 44 finishes after 70 step.\n",
      "-------------------------------------\n",
      "Episode 45 finishes after 50 step.\n",
      "-------------------------------------\n",
      "Episode 45 [ACTOR] Finish after 71 step\tAccumulated reward:-682.467\n",
      "-------------------------------------\n",
      "Episode 46 finishes after 79 step.\n",
      "-------------------------------------\n",
      "Episode 47 finishes after 61 step.\n",
      "-------------------------------------\n",
      "Episode 48 finishes after 84 step.\n",
      "-------------------------------------\n",
      "Episode 49 finishes after 50 step.\n",
      "-------------------------------------\n",
      "Episode 50 finishes after 74 step.\n",
      "-------------------------------------\n",
      "Episode 50 [ACTOR] Finish after 75 step\tAccumulated reward:-476.588\n",
      "-------------------------------------\n"
     ]
    }
   ],
   "source": [
    "max_episode = 51\n",
    "for i_episode in range(max_episode):\n",
    "    acc_reward = 0\n",
    "    obs = env.reset()\n",
    "    state = to_tensor(obs)\n",
    "    for step in count():\n",
    "        # choose action\n",
    "        if flag_collecting_exp:\n",
    "            action = to_tensor(env.action_space.sample())\n",
    "            random_action_steps += 1\n",
    "        else:\n",
    "            action = agent.select_action(state)\n",
    "        \n",
    "        # observe reward & next state\n",
    "        next_obs, reward, done, _ = env.step(action.cpu().data.numpy().flatten())\n",
    "        acc_reward += reward\n",
    "        \n",
    "        next_state = to_tensor(next_obs)\n",
    "        reward = to_tensor(np.array([[reward]]))\n",
    "        # store transition in replay buffer\n",
    "        agent.replay_buffer.push(state, action, reward, next_state, to_tensor(np.array([[float(done)]])))\n",
    "        \n",
    "        # check if initial random policy phase has passed\n",
    "        if random_action_steps > max_random_action_steps and flag_collecting_exp:\n",
    "            flag_collecting_exp = False  # stop random policy\n",
    "            print(\"Finish with random policy\")\n",
    "        \n",
    "        # Update Q-function & policy once random policy is stopped\n",
    "        if not flag_collecting_exp:\n",
    "            if step % 2 == 0:\n",
    "                update_policy = True\n",
    "            else:\n",
    "                update_policy = False\n",
    "            # call the training method\n",
    "            agent.train(update_policy, iteration=1)\n",
    "        \n",
    "        if done:\n",
    "            if not flag_collecting_exp:\n",
    "                print(\"Episode %d finishes after %d step.\" % (i_episode, step))\n",
    "                print(\"-------------------------------------\")\n",
    "            break\n",
    "            \n",
    "        # Move on\n",
    "        state.data.copy_(next_state.data)\n",
    "    \n",
    "    if not flag_collecting_exp:\n",
    "        # store statistic\n",
    "        step_per_ep.append(step + 1)\n",
    "        acc_reward_per_ep.append(acc_reward)\n",
    "\n",
    "        if i_episode % 5 == 0:\n",
    "            actor_acc_reward_per_ep.append(checkout_actor())\n",
    "        \n",
    "        "
   ]
  },
  {
   "cell_type": "markdown",
   "metadata": {},
   "source": [
    "## tau = 0.001\n",
    "## Action noise clip at = 0.15"
   ]
  },
  {
   "cell_type": "code",
   "execution_count": 160,
   "metadata": {},
   "outputs": [
    {
     "data": {
      "image/png": "[encoded data removed]",
      "text/plain": [
       "<Figure size 432x288 with 2 Axes>"
      ]
     },
     "metadata": {
      "needs_background": "light"
     },
     "output_type": "display_data"
    }
   ],
   "source": [
    "plt.figure(2)\n",
    "plt.title(\"Accumulated Reward\")\n",
    "plt.subplot(211)\n",
    "plt.plot(acc_reward_per_ep, 'b-')\n",
    "plt.subplot(212)\n",
    "plt.plot(actor_acc_reward_per_ep, 'r-')\n",
    "plt.xlabel(\"Episode\")\n",
    "plt.show()"
   ]
  },
  {
   "cell_type": "markdown",
   "metadata": {},
   "source": [
    "### Action Noise clipped at 0.5\n",
    "### tau = 0.001"
   ]
  },
  {
   "cell_type": "code",
   "execution_count": 81,
   "metadata": {},
   "outputs": [
    {
     "data": {
      "image/png": "[encoded data removed]",
      "text/plain": [
       "<Figure size 432x288 with 2 Axes>"
      ]
     },
     "metadata": {
      "needs_background": "light"
     },
     "output_type": "display_data"
    }
   ],
   "source": [
    "plt.figure(1)\n",
    "plt.title(\"Accumulated Reward\")\n",
    "plt.subplot(211)\n",
    "plt.plot(acc_reward_per_ep, 'b-')\n",
    "plt.subplot(212)\n",
    "plt.plot(actor_acc_reward_per_ep, 'r-')\n",
    "plt.xlabel(\"Episode\")\n",
    "plt.show()"
   ]
  },
  {
   "cell_type": "code",
   "execution_count": 161,
   "metadata": {},
   "outputs": [
    {
     "name": "stdout",
     "output_type": "stream",
     "text": [
      "Episode 50 [ACTOR] Finish after 56 step\tAccumulated reward:-349.228\n",
      "-------------------------------------\n",
      "Episode 50 [ACTOR] Finish after 60 step\tAccumulated reward:-516.292\n",
      "-------------------------------------\n",
      "Episode 50 [ACTOR] Finish after 84 step\tAccumulated reward:-662.262\n",
      "-------------------------------------\n",
      "Episode 50 [ACTOR] Finish after 83 step\tAccumulated reward:-734.339\n",
      "-------------------------------------\n",
      "Episode 50 [ACTOR] Finish after 76 step\tAccumulated reward:-775.648\n",
      "-------------------------------------\n",
      "Episode 50 [ACTOR] Finish after 85 step\tAccumulated reward:-768.938\n",
      "-------------------------------------\n",
      "Episode 50 [ACTOR] Finish after 80 step\tAccumulated reward:-795.363\n",
      "-------------------------------------\n",
      "Episode 50 [ACTOR] Finish after 62 step\tAccumulated reward:-579.555\n",
      "-------------------------------------\n",
      "Episode 50 [ACTOR] Finish after 57 step\tAccumulated reward:-347.614\n",
      "-------------------------------------\n",
      "Episode 50 [ACTOR] Finish after 69 step\tAccumulated reward:-431.785\n",
      "-------------------------------------\n",
      "Episode 50 [ACTOR] Finish after 53 step\tAccumulated reward:-311.879\n",
      "-------------------------------------\n",
      "Episode 50 [ACTOR] Finish after 59 step\tAccumulated reward:-508.099\n",
      "-------------------------------------\n",
      "Episode 50 [ACTOR] Finish after 75 step\tAccumulated reward:-449.953\n",
      "-------------------------------------\n",
      "Episode 50 [ACTOR] Finish after 58 step\tAccumulated reward:-355.659\n",
      "-------------------------------------\n",
      "Episode 50 [ACTOR] Finish after 71 step\tAccumulated reward:-571.917\n",
      "-------------------------------------\n",
      "Episode 50 [ACTOR] Finish after 79 step\tAccumulated reward:-835.849\n",
      "-------------------------------------\n",
      "Episode 50 [ACTOR] Finish after 81 step\tAccumulated reward:-548.886\n",
      "-------------------------------------\n",
      "Episode 50 [ACTOR] Finish after 69 step\tAccumulated reward:-404.888\n",
      "-------------------------------------\n",
      "Episode 50 [ACTOR] Finish after 70 step\tAccumulated reward:-442.705\n",
      "-------------------------------------\n",
      "Episode 50 [ACTOR] Finish after 61 step\tAccumulated reward:-531.294\n",
      "-------------------------------------\n"
     ]
    }
   ],
   "source": [
    "import time\n",
    "\n",
    "for i in range(20):\n",
    "    checkout_actor(True)\n",
    "    time.sleep(1)\n",
    "    env.close()"
   ]
  },
  {
   "cell_type": "markdown",
   "metadata": {},
   "source": [
    "# --------------------------------------------------------"
   ]
  },
  {
   "cell_type": "markdown",
   "metadata": {},
   "source": [
    "# TESTING AREA"
   ]
  },
  {
   "cell_type": "code",
   "execution_count": 45,
   "metadata": {},
   "outputs": [],
   "source": [
    "# test replay buffer\n",
    "rp = ReplayBuffer(10)\n",
    "s = env.reset()\n",
    "for i in range(5):\n",
    "    a = env.action_space.sample()\n",
    "    n_s, reward, done, _ = env.step(a)\n",
    "    rp.push(s, a, reward, n_s)\n",
    "    s = n_s"
   ]
  },
  {
   "cell_type": "code",
   "execution_count": 55,
   "metadata": {},
   "outputs": [
    {
     "name": "stdout",
     "output_type": "stream",
     "text": [
      "(1.5744464843144739, -0.9941939859433546)\n",
      "(array([0.9572367 , 0.59831715], dtype=float32), array([-0.76345116,  0.27984205], dtype=float32))\n"
     ]
    }
   ],
   "source": [
    "batch = rp.sample(2)\n",
    "print(batch.reward)\n",
    "print(batch.action)\n"
   ]
  },
  {
   "cell_type": "code",
   "execution_count": 99,
   "metadata": {},
   "outputs": [],
   "source": [
    "a = torch.tensor(np.array([[0, 5, 4]]).T)\n",
    "b = torch.tensor(np.array([[1, 6, 2]]).T)\n",
    "# min_ab, _ = torch.min(torch.cat([a, b], dim=1), dim=1, keepdim=True)\n",
    "min_ab = torch.min(a, b)"
   ]
  },
  {
   "cell_type": "code",
   "execution_count": 102,
   "metadata": {},
   "outputs": [
    {
     "name": "stdout",
     "output_type": "stream",
     "text": [
      "tensor([[0],\n",
      "        [5],\n",
      "        [2]]) \t torch.Size([3, 1])\n",
      "tensor([[  1],\n",
      "        [-24],\n",
      "        [ -6]])\n"
     ]
    }
   ],
   "source": [
    "print(min_ab,\"\\t\", min_ab.shape)\n",
    "print((1 - a) * b)"
   ]
  },
  {
   "cell_type": "code",
   "execution_count": 105,
   "metadata": {},
   "outputs": [
    {
     "ename": "RuntimeError",
     "evalue": "Expected object of backend CUDA but got backend CPU for argument #2 'other'",
     "output_type": "error",
     "traceback": [
      "\u001b[0;31m---------------------------------------------------------------------------\u001b[0m",
      "\u001b[0;31mRuntimeError\u001b[0m                              Traceback (most recent call last)",
      "\u001b[0;32m<ipython-input-105-a964e0318030>\u001b[0m in \u001b[0;36m<module>\u001b[0;34m\u001b[0m\n\u001b[1;32m      9\u001b[0m \u001b[0mhigh\u001b[0m \u001b[0;34m=\u001b[0m \u001b[0mtorch\u001b[0m\u001b[0;34m.\u001b[0m\u001b[0mtensor\u001b[0m\u001b[0;34m(\u001b[0m\u001b[0menv\u001b[0m\u001b[0;34m.\u001b[0m\u001b[0maction_space\u001b[0m\u001b[0;34m.\u001b[0m\u001b[0mhigh\u001b[0m\u001b[0;34m)\u001b[0m\u001b[0;34m\u001b[0m\u001b[0;34m\u001b[0m\u001b[0m\n\u001b[1;32m     10\u001b[0m \u001b[0;34m\u001b[0m\u001b[0m\n\u001b[0;32m---> 11\u001b[0;31m \u001b[0mclipped\u001b[0m \u001b[0;34m=\u001b[0m \u001b[0mtorch\u001b[0m\u001b[0;34m.\u001b[0m\u001b[0mmax\u001b[0m\u001b[0;34m(\u001b[0m\u001b[0mtorch\u001b[0m\u001b[0;34m.\u001b[0m\u001b[0mmin\u001b[0m\u001b[0;34m(\u001b[0m\u001b[0mact\u001b[0m\u001b[0;34m,\u001b[0m \u001b[0mhigh\u001b[0m\u001b[0;34m)\u001b[0m\u001b[0;34m,\u001b[0m \u001b[0mlow\u001b[0m\u001b[0;34m)\u001b[0m\u001b[0;34m\u001b[0m\u001b[0;34m\u001b[0m\u001b[0m\n\u001b[0m\u001b[1;32m     12\u001b[0m \u001b[0mprint\u001b[0m\u001b[0;34m(\u001b[0m\u001b[0mact\u001b[0m\u001b[0;34m)\u001b[0m\u001b[0;34m\u001b[0m\u001b[0;34m\u001b[0m\u001b[0m\n\u001b[1;32m     13\u001b[0m \u001b[0mprint\u001b[0m\u001b[0;34m(\u001b[0m\u001b[0;34m\"----\"\u001b[0m\u001b[0;34m)\u001b[0m\u001b[0;34m\u001b[0m\u001b[0;34m\u001b[0m\u001b[0m\n",
      "\u001b[0;31mRuntimeError\u001b[0m: Expected object of backend CUDA but got backend CPU for argument #2 'other'"
     ]
    }
   ],
   "source": [
    "N = 2\n",
    "act = np.concatenate([env.action_space.sample().reshape(1,-1) for i in range(N)], axis=0)\n",
    "act = torch.tensor(act, dtype=torch.float).to(device)\n",
    "epsilon = np.random.normal(0, 0.2, size=list(act.shape)).clip(-0.5, 0.5)\n",
    "\n",
    "act += torch.tensor(epsilon, device=device, dtype=torch.float)\n",
    "\n",
    "low = torch.tensor(env.action_space.low)\n",
    "high = torch.tensor(env.action_space.high)\n",
    "\n",
    "clipped = torch.max(torch.min(act, high), low)\n",
    "print(act)\n",
    "print(\"----\")\n",
    "print(clipped)"
   ]
  },
  {
   "cell_type": "code",
   "execution_count": 89,
   "metadata": {},
   "outputs": [
    {
     "data": {
      "text/plain": [
       "array([1., 1.], dtype=float32)"
      ]
     },
     "execution_count": 89,
     "metadata": {},
     "output_type": "execute_result"
    }
   ],
   "source": [
    "env.action_space.high"
   ]
  },
  {
   "cell_type": "code",
   "execution_count": 90,
   "metadata": {},
   "outputs": [
    {
     "data": {
      "text/plain": [
       "array([-1., -1.], dtype=float32)"
      ]
     },
     "execution_count": 90,
     "metadata": {},
     "output_type": "execute_result"
    }
   ],
   "source": [
    "env.action_space.low"
   ]
  },
  {
   "cell_type": "code",
   "execution_count": 72,
   "metadata": {},
   "outputs": [
    {
     "name": "stdout",
     "output_type": "stream",
     "text": [
      "[2, 2]\n"
     ]
    }
   ],
   "source": [
    "print(list(act.shape))"
   ]
  },
  {
   "cell_type": "code",
   "execution_count": 95,
   "metadata": {},
   "outputs": [
    {
     "name": "stdout",
     "output_type": "stream",
     "text": [
      "Episode finished after 130 timesteps\n",
      "observation:\n",
      " [ 0.48910475 -0.22189607  1.5950245  -0.860313   -0.7419953   3.0693738\n",
      "  1.          0.        ]\n"
     ]
    }
   ],
   "source": [
    "for i_episode in range(1):\n",
    "    observation = env.reset()\n",
    "    for t in range(1000):\n",
    "#         env.render()\n",
    "#         print(observation)\n",
    "        action = env.action_space.sample()\n",
    "        observation, reward, done, info = env.step(action)\n",
    "        if done:\n",
    "            print(\"Episode finished after {} timesteps\".format(t+1))\n",
    "            print(\"observation:\\n\", observation)\n",
    "            break"
   ]
  },
  {
   "cell_type": "code",
   "execution_count": 119,
   "metadata": {},
   "outputs": [
    {
     "data": {
      "text/plain": [
       "1.0"
      ]
     },
     "execution_count": 119,
     "metadata": {},
     "output_type": "execute_result"
    }
   ],
   "source": [
    "float(True)"
   ]
  },
  {
   "cell_type": "code",
   "execution_count": 118,
   "metadata": {},
   "outputs": [
    {
     "data": {
      "text/plain": [
       "0.0"
      ]
     },
     "execution_count": 118,
     "metadata": {},
     "output_type": "execute_result"
    }
   ],
   "source": [
    "float(False)"
   ]
  },
  {
   "cell_type": "code",
   "execution_count": 14,
   "metadata": {},
   "outputs": [
    {
     "name": "stdout",
     "output_type": "stream",
     "text": [
      "true\n"
     ]
    }
   ],
   "source": [
    "a = None\n",
    "if not a:\n",
    "    print(\"true\")\n",
    "else:\n",
    "    print(\"fasle\")"
   ]
  },
  {
   "cell_type": "code",
   "execution_count": 19,
   "metadata": {},
   "outputs": [
    {
     "ename": "AttributeError",
     "evalue": "'NoneType' object has no attribute 'any'",
     "output_type": "error",
     "traceback": [
      "\u001b[0;31m---------------------------------------------------------------------------\u001b[0m",
      "\u001b[0;31mAttributeError\u001b[0m                            Traceback (most recent call last)",
      "\u001b[0;32m<ipython-input-19-2dbd5c37f2be>\u001b[0m in \u001b[0;36m<module>\u001b[0;34m\u001b[0m\n\u001b[0;32m----> 1\u001b[0;31m \u001b[0ma\u001b[0m\u001b[0;34m.\u001b[0m\u001b[0many\u001b[0m\u001b[0;34m(\u001b[0m\u001b[0;34m)\u001b[0m\u001b[0;34m\u001b[0m\u001b[0;34m\u001b[0m\u001b[0m\n\u001b[0m",
      "\u001b[0;31mAttributeError\u001b[0m: 'NoneType' object has no attribute 'any'"
     ]
    }
   ],
   "source": [
    "a.any()"
   ]
  },
  {
   "cell_type": "code",
   "execution_count": null,
   "metadata": {},
   "outputs": [],
   "source": []
  }
 ],
 "metadata": {
  "kernelspec": {
   "display_name": "Python 3",
   "language": "python",
   "name": "python3"
  },
  "language_info": {
   "codemirror_mode": {
    "name": "ipython",
    "version": 3
   },
   "file_extension": ".py",
   "mimetype": "text/x-python",
   "name": "python",
   "nbconvert_exporter": "python",
   "pygments_lexer": "ipython3",
   "version": "3.6.7"
  }
 },
 "nbformat": 4,
 "nbformat_minor": 2
}
