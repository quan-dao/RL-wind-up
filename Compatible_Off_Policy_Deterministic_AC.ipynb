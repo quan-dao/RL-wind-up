{
 "cells": [
  {
   "cell_type": "code",
   "execution_count": 48,
   "metadata": {},
   "outputs": [
    {
     "name": "stdout",
     "output_type": "stream",
     "text": [
      "\u001b[33mWARN: gym.spaces.Box autodetected dtype as <class 'numpy.float32'>. Please provide explicit dtype.\u001b[0m\n",
      "\u001b[33mWARN: gym.spaces.Box autodetected dtype as <class 'numpy.float32'>. Please provide explicit dtype.\u001b[0m\n"
     ]
    },
    {
     "name": "stderr",
     "output_type": "stream",
     "text": [
      "/home/mquan/anaconda3/lib/python3.6/site-packages/gym/envs/registration.py:14: PkgResourcesDeprecationWarning: Parameters to load are deprecated.  Call .resolve and .require separately.\n",
      "  result = entry_point.load(False)\n"
     ]
    }
   ],
   "source": [
    "import gym\n",
    "import numpy as np\n",
    "import random\n",
    "import math\n",
    "from itertools import count\n",
    "\n",
    "import sklearn.pipeline\n",
    "import sklearn.preprocessing\n",
    "from sklearn.linear_model import SGDRegressor\n",
    "from sklearn.kernel_approximation import RBFSampler\n",
    "\n",
    "from mpl_toolkits.mplot3d import Axes3D\n",
    "import matplotlib.pyplot as plt\n",
    "from matplotlib import cm\n",
    "from matplotlib.ticker import LinearLocator, FormatStrFormatter\n",
    "\n",
    "\n",
    "env = gym.envs.make(\"MountainCarContinuous-v0\")\n",
    "env._max_episode_steps = 2000\n",
    "# print(\"Action space: \", env.action_space, \"\\nHigh: \", env.action_space.high, \"Low: \", env.action_space.low)\n",
    "# print(\"Observation space: \", env.observation_space, \"\\nHigh: \", env.observation_space.high, \"Low: \", env.observation_space.low)"
   ]
  },
  {
   "cell_type": "markdown",
   "metadata": {},
   "source": [
    "# Abstract class of Baseline & Policy  \n",
    "Key point of this class is the definition of the featurizer based on Radial Basis Function (RBF). This featurizer is used for featurizing state before calculating the value of the Baseline or the action produce by the Policy."
   ]
  },
  {
   "cell_type": "code",
   "execution_count": 49,
   "metadata": {},
   "outputs": [],
   "source": [
    "class PolicyGradient(object):\n",
    "    def __init__(self, num_features, _examples):\n",
    "        '''\n",
    "        num_features: define len of weights vector of the linear model (used as either Actor or Critic)\n",
    "        _examples: sample for either observation space or (obs, act) space to normalize the scaler to \n",
    "                    zero mean & unit variance\n",
    "        '''\n",
    "        assert num_features % 4 == 0  # 4 featurizers\n",
    "        self.weights = np.zeros(num_features)\n",
    "        # define & normalize scaler\n",
    "        self.scaler = sklearn.preprocessing.StandardScaler()\n",
    "        self.scaler.fit(_examples)\n",
    "        # define featurizer\n",
    "        num_components = num_features // 4\n",
    "        self.featurizer = state_featurizer = sklearn.pipeline.FeatureUnion([\n",
    "                (\"rbf1\", RBFSampler(gamma=5.0, n_components=num_components)),\n",
    "                (\"rbf2\", RBFSampler(gamma=2.0, n_components=num_components)),\n",
    "                (\"rbf3\", RBFSampler(gamma=1.0, n_components=num_components)),\n",
    "                (\"rbf4\", RBFSampler(gamma=0.5, n_components=num_components))\n",
    "                ])\n",
    "        self.featurizer.fit(self.scaler.transform(_examples))\n",
    "        \n",
    "    def featurize(self, *argv):\n",
    "        '''\n",
    "        Accepted input: state or state, action\n",
    "        '''\n",
    "        assert len(argv) in [1, 2]\n",
    "        if len(argv) == 2:\n",
    "            # featurize a (state, action) pair\n",
    "            scaled = self.scaler.transform([np.append(argv[0], argv[1])])\n",
    "        else:\n",
    "            # featurize a state\n",
    "            scaled = self.scaler.transform([argv[0]])\n",
    "        # invoke the featurizer\n",
    "        featurized = self.featurizer.transform(scaled)\n",
    "        return featurized[0]"
   ]
  },
  {
   "cell_type": "markdown",
   "metadata": {},
   "source": [
    "## Definition of the Baseline\n",
    "The Baseline is a **Linear** Function Approximator. It aims to estimate the state value function V(s)"
   ]
  },
  {
   "cell_type": "code",
   "execution_count": 50,
   "metadata": {},
   "outputs": [],
   "source": [
    "class BaseLine(PolicyGradient):\n",
    "    def __init__(self, num_features, lr=1e-3):\n",
    "        observation_examples = np.array([env.observation_space.sample() for x in range(1000)])\n",
    "        super().__init__(num_features, observation_examples)\n",
    "        self.lr =  1e-3\n",
    "    \n",
    "    def cal_state_value(self, state):\n",
    "        return self.weights.dot(self.featurize(state))\n",
    "    \n",
    "    def update_weights(self, td_error, state, td_correction):\n",
    "        self.weights += self.lr * td_error * self.featurize(state) - self.lr * td_correction"
   ]
  },
  {
   "cell_type": "markdown",
   "metadata": {},
   "source": [
    "## ACTOR - Definition of the Policy\n",
    "Policy is a **Linear** function calculating the action which is then taken by the agent, given the agent's current state (s). Hence, the Policy is deterministic."
   ]
  },
  {
   "cell_type": "code",
   "execution_count": 51,
   "metadata": {},
   "outputs": [],
   "source": [
    "class Policy(PolicyGradient):\n",
    "    def __init__(self, num_features, lr=1e-3):\n",
    "        observation_examples = np.array([env.observation_space.sample() for x in range(1000)])\n",
    "        super().__init__(num_features, observation_examples)\n",
    "        self.lr = 1e-3\n",
    "    \n",
    "    def cal_action(self, state):\n",
    "        return self.weights.dot(self.featurize(state))\n",
    "    \n",
    "    def cal_grad_policy(self, state):\n",
    "        '''\n",
    "        calculate the gradient of the policy w.r.t its weights. \n",
    "        The policy is chosen to be a linear combination of weights & features vector,\n",
    "        so its grad is just the features vector\n",
    "        '''\n",
    "        return self.featurize(state)\n",
    "    \n",
    "    def update_weights(self, grad_policy, critic_weights):\n",
    "        assert critic_weights.shape[0] == grad_policy.shape[0]  # to ensure grad_policy & weights of critic are size compatible\n",
    "        self.weights += self.lr * grad_policy * grad_policy.dot(critic_weights)\n",
    "                                 "
   ]
  },
  {
   "cell_type": "markdown",
   "metadata": {},
   "source": [
    "# CRITIC - Action value function approximator\n",
    "The action value fucntion approximator is used as the **Critic**. It's chosen to be *compatible* with Deterministic Policy Gradient."
   ]
  },
  {
   "cell_type": "code",
   "execution_count": 52,
   "metadata": {},
   "outputs": [],
   "source": [
    "class CompatibleQFunction(object):\n",
    "    def __init__(self, num_features, lr=1e-3):\n",
    "        self.weights = np.zeros(num_features)\n",
    "        self.lr = lr\n",
    "        \n",
    "    def cal_action_value(self, _action, chosen_action, grad_policy, baseline_value):\n",
    "        '''\n",
    "        _action is of the 2nd input of Q(s, a)\n",
    "        state s is implied in chosen_action, grad_policy & baseline value\n",
    "        '''\n",
    "        assert grad_policy.shape[0] == self.weights.shape[0]  # ensure size compatible\n",
    "        return (_action - chosen_action) * grad_policy.dot(self.weights) + baseline_value\n",
    "    \n",
    "    def featurize(self, grad_policy, behaviour_action, chosen_action):\n",
    "        return grad_policy * (behaviour_action - chosen_action)\n",
    "    \n",
    "    def update_weights(self, td_error, grad_policy, behaviour_action, chosen_action, td_correction):\n",
    "        self.weights += self.lr * td_error * (behaviour_action - chosen_action) * grad_policy - \\\n",
    "                        self.lr * td_correction\n",
    "        "
   ]
  },
  {
   "cell_type": "markdown",
   "metadata": {},
   "source": [
    "# Approximator of 2 Expectations in Mean Square Bellman Projected Error (MSBPE\n",
    "Another set of parameters $u$ is used to estimate two expectation in MSBPE\n",
    "\\begin{equation*}\n",
    "u \\approx \\mathbb{E}\\left[\\phi \\phi^T \\right]^{-1}\\mathbb{E}\\left[\\delta \\phi \\right]\n",
    "\\end{equation*}\n",
    "With $\\phi = \\phi(s_t, a_t)$ is the features vector of state-action pair, $\\delta$ is the (one-step) TD error."
   ]
  },
  {
   "cell_type": "code",
   "execution_count": 53,
   "metadata": {},
   "outputs": [],
   "source": [
    "class MSBPEestimator(object):\n",
    "    def __init__(self, num_features, lr=1e-3):\n",
    "        self.weights = np.zeros(num_features)\n",
    "        self.lr = lr\n",
    "    \n",
    "    def update_weights(self, td_error, state_act_features_vect):\n",
    "        self.weights += self.lr * (td_error - state_act_features_vect.dot(self.weights)) * state_act_features_vect"
   ]
  },
  {
   "cell_type": "markdown",
   "metadata": {},
   "source": [
    "# Behaviour Policy\n",
    "Beahviour policy is set to be a Gaussian distribution with fixed standard deviation"
   ]
  },
  {
   "cell_type": "code",
   "execution_count": 54,
   "metadata": {},
   "outputs": [],
   "source": [
    "SIGMA = 0.25 * (env.action_space.high[0] - env.action_space.low[0])\n",
    "def behaviour_policy(chosen_action):\n",
    "    return np.random.normal(chosen_action)"
   ]
  },
  {
   "cell_type": "markdown",
   "metadata": {},
   "source": [
    "# Training "
   ]
  },
  {
   "cell_type": "code",
   "execution_count": 55,
   "metadata": {},
   "outputs": [],
   "source": [
    "NUM_FEATURES = 4 * 30\n",
    "GAMMA = 0.99"
   ]
  },
  {
   "cell_type": "code",
   "execution_count": 56,
   "metadata": {},
   "outputs": [],
   "source": [
    "def checkout_actor(i_episode, _actor):\n",
    "    state = env.reset()\n",
    "    ans = 0\n",
    "    for step in count():\n",
    "        act = _actor.cal_action(state)\n",
    "        new_state, reward, done, _= env.step([act])\n",
    "        if new_state[0] > 0.45:\n",
    "            done = True\n",
    "            reward = 1.\n",
    "        if done:\n",
    "            print(\"Episode %d [ACTOR] Finish after %d step\" % (i_episode, step+1))\n",
    "            print(\"-------------------------------------\")\n",
    "            ans = step + 1\n",
    "            break\n",
    "        # Move on \n",
    "        state = new_state\n",
    "    return ans"
   ]
  },
  {
   "cell_type": "markdown",
   "metadata": {},
   "source": [
    "## Statistic"
   ]
  },
  {
   "cell_type": "code",
   "execution_count": 57,
   "metadata": {},
   "outputs": [],
   "source": [
    "abs_u_per_episode = []\n",
    "actor_step_per_episode = []"
   ]
  },
  {
   "cell_type": "code",
   "execution_count": 58,
   "metadata": {
    "scrolled": true
   },
   "outputs": [
    {
     "name": "stdout",
     "output_type": "stream",
     "text": [
      "TD error:\t-0.5121\n",
      "TD error:\t-0.0072\n",
      "TD error:\t-0.0035\n",
      "Episode 0 finishes after 1369 steps\n",
      "-------------------------------------\n",
      "Episode 0 [ACTOR] Finish after 2000 step\n",
      "-------------------------------------\n",
      "TD error:\t-0.0053\n",
      "TD error:\t-0.0642\n",
      "TD error:\t-0.0938\n",
      "TD error:\t-0.4265\n",
      "Episode 1 finishes after 2000 steps\n",
      "-------------------------------------\n",
      "TD error:\t-0.2080\n",
      "TD error:\t0.0058\n",
      "TD error:\t-0.0251\n",
      "TD error:\t0.0077\n",
      "Episode 2 finishes after 2000 steps\n",
      "-------------------------------------\n",
      "TD error:\t-0.0054\n",
      "TD error:\t-0.0664\n",
      "TD error:\t-0.1579\n",
      "Episode 3 finishes after 1271 steps\n",
      "-------------------------------------\n",
      "TD error:\t-0.0735\n",
      "TD error:\t0.0101\n",
      "TD error:\t-0.0433\n",
      "TD error:\t-0.0093\n",
      "Episode 4 finishes after 1718 steps\n",
      "-------------------------------------\n",
      "TD error:\t0.0052\n",
      "TD error:\t-0.1450\n",
      "TD error:\t-0.5314\n",
      "TD error:\t-0.0787\n",
      "Episode 5 finishes after 1644 steps\n",
      "-------------------------------------\n",
      "TD error:\t0.0081\n",
      "TD error:\t-0.1100\n",
      "TD error:\t-0.0672\n",
      "Episode 6 finishes after 1482 steps\n",
      "-------------------------------------\n",
      "TD error:\t-0.3697\n",
      "TD error:\t-0.1328\n",
      "TD error:\t-0.1726\n",
      "Episode 7 finishes after 1322 steps\n",
      "-------------------------------------\n",
      "TD error:\t0.0058\n",
      "TD error:\t-0.0154\n",
      "TD error:\t-0.1143\n",
      "TD error:\t-0.3008\n",
      "Episode 8 finishes after 1914 steps\n",
      "-------------------------------------\n",
      "TD error:\t0.0210\n",
      "TD error:\t0.0176\n",
      "TD error:\t-0.0765\n",
      "Episode 9 finishes after 1359 steps\n",
      "-------------------------------------\n",
      "TD error:\t-0.2317\n",
      "TD error:\t-0.1463\n",
      "Episode 10 finishes after 687 steps\n",
      "-------------------------------------\n",
      "Episode 10 [ACTOR] Finish after 2000 step\n",
      "-------------------------------------\n",
      "TD error:\t0.0269\n",
      "TD error:\t-0.5092\n",
      "TD error:\t-0.3520\n",
      "Episode 11 finishes after 1434 steps\n",
      "-------------------------------------\n",
      "TD error:\t-0.1922\n",
      "TD error:\t-0.1458\n",
      "TD error:\t-0.0048\n",
      "TD error:\t-0.0895\n",
      "Episode 12 finishes after 2000 steps\n",
      "-------------------------------------\n",
      "TD error:\t0.0287\n",
      "TD error:\t-0.0461\n",
      "Episode 13 finishes after 813 steps\n",
      "-------------------------------------\n",
      "TD error:\t0.0367\n",
      "TD error:\t-0.1942\n",
      "TD error:\t-0.0670\n",
      "Episode 14 finishes after 1418 steps\n",
      "-------------------------------------\n",
      "TD error:\t-0.0994\n",
      "TD error:\t0.0265\n",
      "TD error:\t0.0474\n",
      "TD error:\t0.0437\n",
      "Episode 15 finishes after 1918 steps\n",
      "-------------------------------------\n",
      "TD error:\t-0.1317\n",
      "TD error:\t-0.0507\n",
      "Episode 16 finishes after 753 steps\n",
      "-------------------------------------\n",
      "TD error:\t-0.0922\n",
      "TD error:\t-0.1634\n",
      "Episode 17 finishes after 639 steps\n",
      "-------------------------------------\n",
      "TD error:\t-0.2220\n",
      "TD error:\t0.0690\n",
      "Episode 18 finishes after 628 steps\n",
      "-------------------------------------\n",
      "TD error:\t0.0388\n",
      "TD error:\t-0.4523\n",
      "Episode 19 finishes after 936 steps\n",
      "-------------------------------------\n",
      "TD error:\t0.0194\n",
      "TD error:\t-0.0706\n",
      "Episode 20 finishes after 740 steps\n",
      "-------------------------------------\n",
      "Episode 20 [ACTOR] Finish after 2000 step\n",
      "-------------------------------------\n",
      "TD error:\t0.0371\n",
      "TD error:\t-0.0360\n",
      "TD error:\t0.0265\n",
      "Episode 21 finishes after 1268 steps\n",
      "-------------------------------------\n",
      "TD error:\t0.0448\n",
      "TD error:\t-0.3119\n",
      "TD error:\t-0.5219\n",
      "Episode 22 finishes after 1107 steps\n",
      "-------------------------------------\n",
      "TD error:\t-0.2016\n",
      "TD error:\t0.0155\n",
      "TD error:\t0.0425\n",
      "Episode 23 finishes after 1058 steps\n",
      "-------------------------------------\n",
      "TD error:\t0.0443\n",
      "TD error:\t0.0079\n",
      "Episode 24 finishes after 689 steps\n",
      "-------------------------------------\n",
      "TD error:\t-0.1558\n",
      "TD error:\t-0.2721\n",
      "Episode 25 finishes after 514 steps\n",
      "-------------------------------------\n",
      "TD error:\t-0.0299\n",
      "TD error:\t-1.4348\n",
      "Episode 26 finishes after 618 steps\n",
      "-------------------------------------\n",
      "TD error:\t0.0502\n",
      "TD error:\t0.0690\n",
      "Episode 27 finishes after 866 steps\n",
      "-------------------------------------\n",
      "TD error:\t0.0463\n",
      "Episode 28 finishes after 455 steps\n",
      "-------------------------------------\n",
      "TD error:\t-0.0702\n",
      "TD error:\t0.0260\n",
      "Episode 29 finishes after 694 steps\n",
      "-------------------------------------\n",
      "TD error:\t-0.0890\n",
      "Episode 30 finishes after 455 steps\n",
      "-------------------------------------\n",
      "Episode 30 [ACTOR] Finish after 2000 step\n",
      "-------------------------------------\n",
      "TD error:\t0.0508\n",
      "TD error:\t-0.0977\n",
      "Episode 31 finishes after 840 steps\n",
      "-------------------------------------\n",
      "TD error:\t0.0505\n",
      "TD error:\t-0.8647\n",
      "Episode 32 finishes after 685 steps\n",
      "-------------------------------------\n",
      "TD error:\t0.0250\n",
      "Episode 33 finishes after 331 steps\n",
      "-------------------------------------\n",
      "TD error:\t-0.0526\n",
      "Episode 34 finishes after 404 steps\n",
      "-------------------------------------\n",
      "TD error:\t-0.2564\n",
      "TD error:\t0.0456\n",
      "Episode 35 finishes after 800 steps\n",
      "-------------------------------------\n",
      "TD error:\t0.0437\n",
      "TD error:\t0.0157\n",
      "TD error:\t-0.1648\n",
      "Episode 36 finishes after 1112 steps\n",
      "-------------------------------------\n",
      "TD error:\t0.0543\n",
      "TD error:\t-0.0481\n",
      "Episode 37 finishes after 797 steps\n",
      "-------------------------------------\n",
      "TD error:\t-0.0971\n",
      "Episode 38 finishes after 443 steps\n",
      "-------------------------------------\n",
      "TD error:\t-0.0181\n",
      "TD error:\t0.0226\n",
      "TD error:\t0.0372\n",
      "Episode 39 finishes after 1007 steps\n",
      "-------------------------------------\n",
      "TD error:\t-0.7320\n",
      "TD error:\t-0.2736\n",
      "Episode 40 finishes after 549 steps\n",
      "-------------------------------------\n",
      "Episode 40 [ACTOR] Finish after 405 step\n",
      "-------------------------------------\n",
      "TD error:\t0.0576\n",
      "TD error:\t-0.0363\n",
      "Episode 41 finishes after 566 steps\n",
      "-------------------------------------\n",
      "TD error:\t0.0371\n",
      "TD error:\t-0.0645\n",
      "Episode 42 finishes after 1000 steps\n",
      "-------------------------------------\n",
      "TD error:\t-0.0244\n",
      "TD error:\t-0.1246\n",
      "Episode 43 finishes after 585 steps\n",
      "-------------------------------------\n",
      "TD error:\t-0.0095\n",
      "TD error:\t0.0385\n",
      "Episode 44 finishes after 854 steps\n",
      "-------------------------------------\n",
      "TD error:\t0.0615\n",
      "TD error:\t0.0617\n",
      "Episode 45 finishes after 511 steps\n",
      "-------------------------------------\n",
      "TD error:\t0.0520\n",
      "TD error:\t-0.1830\n",
      "Episode 46 finishes after 555 steps\n",
      "-------------------------------------\n",
      "TD error:\t0.0516\n",
      "Episode 47 finishes after 401 steps\n",
      "-------------------------------------\n",
      "TD error:\t0.0347\n",
      "TD error:\t0.0719\n",
      "Episode 48 finishes after 713 steps\n",
      "-------------------------------------\n",
      "TD error:\t-0.1209\n",
      "TD error:\t-0.1029\n",
      "Episode 49 finishes after 693 steps\n",
      "-------------------------------------\n",
      "TD error:\t0.0573\n",
      "Episode 50 finishes after 477 steps\n",
      "-------------------------------------\n",
      "Episode 50 [ACTOR] Finish after 326 step\n",
      "-------------------------------------\n",
      "TD error:\t0.0575\n",
      "TD error:\t-0.1306\n",
      "Episode 51 finishes after 792 steps\n",
      "-------------------------------------\n",
      "TD error:\t-0.4697\n",
      "Episode 52 finishes after 244 steps\n",
      "-------------------------------------\n",
      "TD error:\t-0.1621\n",
      "Episode 53 finishes after 377 steps\n",
      "-------------------------------------\n",
      "TD error:\t-0.0797\n",
      "Episode 54 finishes after 409 steps\n",
      "-------------------------------------\n",
      "TD error:\t0.0537\n",
      "TD error:\t-0.0930\n",
      "Episode 55 finishes after 504 steps\n",
      "-------------------------------------\n",
      "TD error:\t0.0104\n",
      "TD error:\t-0.3104\n",
      "Episode 56 finishes after 552 steps\n",
      "-------------------------------------\n",
      "TD error:\t-0.3390\n",
      "TD error:\t-0.0521\n",
      "TD error:\t0.0009\n",
      "Episode 57 finishes after 1064 steps\n",
      "-------------------------------------\n",
      "TD error:\t0.0636\n",
      "Episode 58 finishes after 428 steps\n",
      "-------------------------------------\n",
      "TD error:\t0.0540\n",
      "Episode 59 finishes after 479 steps\n",
      "-------------------------------------\n",
      "TD error:\t-0.0031\n",
      "TD error:\t0.0563\n",
      "Episode 60 finishes after 594 steps\n",
      "-------------------------------------\n",
      "Episode 60 [ACTOR] Finish after 357 step\n",
      "-------------------------------------\n"
     ]
    }
   ],
   "source": [
    "# Init Actor, Critic, & Baseline function\n",
    "actor = Policy(NUM_FEATURES)\n",
    "critic = CompatibleQFunction(NUM_FEATURES)\n",
    "baseline = BaseLine(NUM_FEATURES)\n",
    "u = MSBPEestimator(NUM_FEATURES)  # for TD correction\n",
    "\n",
    "max_episode = 61\n",
    "for i_episode in range(max_episode):\n",
    "    state = env.reset()\n",
    "    chosen_act = actor.cal_action(state)\n",
    "    for step in count():\n",
    "        # Find behaviour action\n",
    "        behave_act = behaviour_policy(chosen_act)\n",
    "        # Take behave_act, observe new state & reward\n",
    "        new_state, reward, done, _ = env.step([behave_act])\n",
    "        if new_state[0] > 0.45:\n",
    "            done = True\n",
    "            reward = 1.\n",
    "        # calculate new action using actor\n",
    "        new_chosen_act = actor.cal_action(new_state)\n",
    "        # calculate TD error\n",
    "        grad_policy = actor.cal_grad_policy(state)\n",
    "        new_grad_policy = actor.cal_grad_policy(new_state)\n",
    "        \n",
    "        if not done:\n",
    "            td_target = reward + GAMMA * critic.cal_action_value(new_chosen_act, \n",
    "                                                                new_chosen_act, \n",
    "                                                                new_grad_policy, \n",
    "                                                                baseline.cal_state_value(new_state))\n",
    "        else:\n",
    "            td_target = reward\n",
    "            \n",
    "        td_error = td_target - critic.cal_action_value(behave_act,\n",
    "                                                      chosen_act,\n",
    "                                                      grad_policy,\n",
    "                                                      baseline.cal_state_value(state))\n",
    "        # Update weights\n",
    "        actor.update_weights(grad_policy, critic.weights)\n",
    "        # calculate correction term for critic & baseline (i.e. approximation of state value V(s))\n",
    "        state_behaveAct_features_vect = critic.featurize(grad_policy, behave_act, chosen_act)\n",
    "        \n",
    "        critic_td_correction = 0\n",
    "        baseline_td_correction = GAMMA * baseline.featurize(new_state) * \\\n",
    "                                        state_behaveAct_features_vect.dot(u.weights)\n",
    "        \n",
    "        critic.update_weights(td_error, grad_policy, behave_act, chosen_act, critic_td_correction)\n",
    "        baseline.update_weights(td_error, state, baseline_td_correction)\n",
    "        u.update_weights(td_error, state_behaveAct_features_vect)\n",
    "        \n",
    "        if done:\n",
    "            print(\"Episode %d finishes after %d steps\" % (i_episode, step + 1))\n",
    "            print(\"-------------------------------------\")\n",
    "            break\n",
    "        else:\n",
    "            if step % 500 == 0: print(\"TD error:\\t%.4f\" % td_error)\n",
    "        \n",
    "        # Move on\n",
    "        state = new_state\n",
    "        chosen_act = new_chosen_act\n",
    "        \n",
    "    if i_episode % 10 == 0:\n",
    "        actor_step_per_episode.append(checkout_actor(i_episode, actor))\n",
    "    # store sum square of u\n",
    "    abs_u_per_episode.append(np.absolute(u.weights).sum())\n",
    "        "
   ]
  },
  {
   "cell_type": "markdown",
   "metadata": {},
   "source": [
    "## Statistic"
   ]
  },
  {
   "cell_type": "code",
   "execution_count": 59,
   "metadata": {},
   "outputs": [],
   "source": [
    "def plotValueFunc(value_approx):\n",
    "    x_vect = np.linspace(env.observation_space.low[0], env.observation_space.high[0], num=50)\n",
    "    xdot_vect = np.linspace(env.observation_space.low[1], env.observation_space.high[1], num=50)\n",
    "    x, xdot = np.meshgrid(x_vect, xdot_vect)\n",
    "    state_value = np.zeros(x.shape)\n",
    "    for i in range(x.shape[0]):\n",
    "        for j in range(x.shape[1]):\n",
    "            state = np.array([x[i, j], xdot[i, j]])\n",
    "            state_value[i, j] = value_approx.cal_state_value(state)\n",
    "    # plot Value function\n",
    "    fig = plt.figure(100)\n",
    "    ax = fig.gca(projection='3d')\n",
    "    surf = ax.plot_surface(x, xdot, -state_value, cmap=cm.coolwarm, linewidth=0, antialiased=False)\n",
    "    ax.set_xlabel('Position')\n",
    "    ax.set_ylabel('Velocity')\n",
    "    ax.set_zlabel('Value')\n",
    "    ax.set_title(\"Mountain \\\"Cost To Go\\\" Function\")\n",
    "    plt.show()"
   ]
  },
  {
   "cell_type": "code",
   "execution_count": 60,
   "metadata": {},
   "outputs": [
    {
     "data": {
      "image/png": "[encoded data removed]",
      "text/plain": [
       "<Figure size 432x288 with 1 Axes>"
      ]
     },
     "metadata": {
      "needs_background": "light"
     },
     "output_type": "display_data"
    }
   ],
   "source": [
    "plotValueFunc(baseline)"
   ]
  },
  {
   "cell_type": "code",
   "execution_count": 62,
   "metadata": {},
   "outputs": [
    {
     "data": {
      "image/png": "[encoded data removed]",
      "text/plain": [
       "<Figure size 432x288 with 1 Axes>"
      ]
     },
     "metadata": {
      "needs_background": "light"
     },
     "output_type": "display_data"
    }
   ],
   "source": [
    "plt.figure(2)\n",
    "plt.plot([0, 10, 20, 30, 40, 50, 60], actor_step_per_episode, '*', markersize=8)\n",
    "plt.grid()\n",
    "plt.show()"
   ]
  },
  {
   "cell_type": "code",
   "execution_count": 63,
   "metadata": {},
   "outputs": [
    {
     "data": {
      "image/png": "[encoded data removed]",
      "text/plain": [
       "<Figure size 432x288 with 1 Axes>"
      ]
     },
     "metadata": {
      "needs_background": "light"
     },
     "output_type": "display_data"
    }
   ],
   "source": [
    "plt.figure(5)\n",
    "plt.plot(abs_u_per_episode)\n",
    "plt.grid()\n",
    "plt.show()"
   ]
  },
  {
   "cell_type": "code",
   "execution_count": null,
   "metadata": {},
   "outputs": [],
   "source": []
  }
 ],
 "metadata": {
  "kernelspec": {
   "display_name": "Python 3",
   "language": "python",
   "name": "python3"
  },
  "language_info": {
   "codemirror_mode": {
    "name": "ipython",
    "version": 3
   },
   "file_extension": ".py",
   "mimetype": "text/x-python",
   "name": "python",
   "nbconvert_exporter": "python",
   "pygments_lexer": "ipython3",
   "version": "3.6.7"
  }
 },
 "nbformat": 4,
 "nbformat_minor": 2
}
