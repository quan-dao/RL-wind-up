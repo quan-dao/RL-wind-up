{
 "cells": [
  {
   "cell_type": "code",
   "execution_count": 104,
   "metadata": {},
   "outputs": [
    {
     "name": "stdout",
     "output_type": "stream",
     "text": [
      "\u001b[33mWARN: gym.spaces.Box autodetected dtype as <class 'numpy.float32'>. Please provide explicit dtype.\u001b[0m\n",
      "\u001b[33mWARN: gym.spaces.Box autodetected dtype as <class 'numpy.float32'>. Please provide explicit dtype.\u001b[0m\n"
     ]
    },
    {
     "name": "stderr",
     "output_type": "stream",
     "text": [
      "/home/mquan/anaconda3/lib/python3.6/site-packages/gym/envs/registration.py:14: PkgResourcesDeprecationWarning: Parameters to load are deprecated.  Call .resolve and .require separately.\n",
      "  result = entry_point.load(False)\n"
     ]
    }
   ],
   "source": [
    "import gym\n",
    "import numpy as np\n",
    "import random\n",
    "import math\n",
    "from itertools import count\n",
    "\n",
    "import sklearn.pipeline\n",
    "import sklearn.preprocessing\n",
    "from sklearn.linear_model import SGDRegressor\n",
    "from sklearn.kernel_approximation import RBFSampler\n",
    "\n",
    "from mpl_toolkits.mplot3d import Axes3D\n",
    "import matplotlib.pyplot as plt\n",
    "from matplotlib import cm\n",
    "from matplotlib.ticker import LinearLocator, FormatStrFormatter\n",
    "\n",
    "\n",
    "env = gym.envs.make(\"MountainCarContinuous-v0\")\n",
    "env._max_episode_steps = 2000\n",
    "# print(\"Action space: \", env.action_space, \"\\nHigh: \", env.action_space.high, \"Low: \", env.action_space.low)\n",
    "# print(\"Observation space: \", env.observation_space, \"\\nHigh: \", env.observation_space.high, \"Low: \", env.observation_space.low)"
   ]
  },
  {
   "cell_type": "markdown",
   "metadata": {},
   "source": [
    "# Abstract class of Baseline & Policy  \n",
    "Key point of this class is the definition of the featurizer based on Radial Basis Function (RBF). This featurizer is used for featurizing state before calculating the value of the Baseline or the action produce by the Policy."
   ]
  },
  {
   "cell_type": "code",
   "execution_count": 120,
   "metadata": {},
   "outputs": [],
   "source": [
    "class PolicyGradient(object):\n",
    "    def __init__(self, num_features, _examples):\n",
    "        '''\n",
    "        num_features: define len of weights vector of the linear model (used as either Actor or Critic)\n",
    "        _examples: sample for either observation space or (obs, act) space to normalize the scaler to \n",
    "                    zero mean & unit variance\n",
    "        '''\n",
    "        assert num_features % 4 == 0  # 4 featurizers\n",
    "        self.weights = np.zeros(num_features)\n",
    "        # define & normalize scaler\n",
    "        self.scaler = sklearn.preprocessing.StandardScaler()\n",
    "        self.scaler.fit(_examples)\n",
    "        # define featurizer\n",
    "        num_components = num_features // 4\n",
    "        self.featurizer = state_featurizer = sklearn.pipeline.FeatureUnion([\n",
    "                (\"rbf1\", RBFSampler(gamma=5.0, n_components=num_components)),\n",
    "                (\"rbf2\", RBFSampler(gamma=2.0, n_components=num_components)),\n",
    "                (\"rbf3\", RBFSampler(gamma=1.0, n_components=num_components)),\n",
    "                (\"rbf4\", RBFSampler(gamma=0.5, n_components=num_components))\n",
    "                ])\n",
    "        self.featurizer.fit(self.scaler.transform(_examples))\n",
    "        \n",
    "    def featurize(self, *argv):\n",
    "        '''\n",
    "        Accepted input: state or state, action\n",
    "        '''\n",
    "        assert len(argv) in [1, 2]\n",
    "        if len(argv) == 2:\n",
    "            # featurize a (state, action) pair\n",
    "            scaled = self.scaler.transform([np.append(argv[0], argv[1])])\n",
    "        else:\n",
    "            # featurize a state\n",
    "            scaled = self.scaler.transform([argv[0]])\n",
    "        # invoke the featurizer\n",
    "        featurized = self.featurizer.transform(scaled)\n",
    "        return featurized[0]"
   ]
  },
  {
   "cell_type": "markdown",
   "metadata": {},
   "source": [
    "## Definition of the Baseline\n",
    "The Baseline is a **Linear** Function Approximator. It aims to estimate the state value function V(s)"
   ]
  },
  {
   "cell_type": "code",
   "execution_count": 121,
   "metadata": {},
   "outputs": [],
   "source": [
    "class BaseLine(PolicyGradient):\n",
    "    def __init__(self, num_features, lr=1e-3):\n",
    "        observation_examples = np.array([env.observation_space.sample() for x in range(1000)])\n",
    "        super().__init__(num_features, observation_examples)\n",
    "        self.lr =  1e-3\n",
    "    \n",
    "    def cal_state_value(self, state):\n",
    "        return self.weights.dot(self.featurize(state))\n",
    "    \n",
    "    def update_weights(self, td_error, state):\n",
    "        self.weights += self.lr * td_error * self.featurize(state)"
   ]
  },
  {
   "cell_type": "markdown",
   "metadata": {},
   "source": [
    "## ACTOR - Definition of the Policy\n",
    "Policy is a **Linear** function calculating the action which is then taken by the agent, given the agent's current state (s). Hence, the Policy is deterministic."
   ]
  },
  {
   "cell_type": "code",
   "execution_count": 122,
   "metadata": {},
   "outputs": [],
   "source": [
    "class Policy(PolicyGradient):\n",
    "    def __init__(self, num_features, lr=1e-3):\n",
    "        observation_examples = np.array([env.observation_space.sample() for x in range(1000)])\n",
    "        super().__init__(num_features, observation_examples)\n",
    "        self.lr = 1e-3\n",
    "    \n",
    "    def cal_action(self, state):\n",
    "        return self.weights.dot(self.featurize(state))\n",
    "    \n",
    "    def cal_grad_policy(self, state):\n",
    "        '''\n",
    "        calculate the gradient of the policy w.r.t its weights. \n",
    "        The policy is chosen to be a linear combination of weights & features vector,\n",
    "        so its grad is just the features vector\n",
    "        '''\n",
    "        return self.featurize(state)\n",
    "    \n",
    "    def update_weights(self, grad_policy, critic_weights):\n",
    "        assert critic_weights.shape[0] == grad_policy.shape[0]  # to ensure grad_policy & weights of critic are size compatible\n",
    "        self.weights += self.lr * grad_policy * grad_policy.dot(critic_weights)\n",
    "                                 "
   ]
  },
  {
   "cell_type": "code",
   "execution_count": 67,
   "metadata": {},
   "outputs": [
    {
     "name": "stdout",
     "output_type": "stream",
     "text": [
      "action:\t 0.0\n",
      "grad policy:\n",
      " [-0.53326244  0.11173103  0.23708493  0.26670706  0.56290204 -0.9684067\n",
      "  0.74165309 -0.90747052]\n"
     ]
    },
    {
     "ename": "AssertionError",
     "evalue": "",
     "output_type": "error",
     "traceback": [
      "\u001b[0;31m---------------------------------------------------------------------------\u001b[0m",
      "\u001b[0;31mAssertionError\u001b[0m                            Traceback (most recent call last)",
      "\u001b[0;32m<ipython-input-67-283a36542fef>\u001b[0m in \u001b[0;36m<module>\u001b[0;34m\u001b[0m\n\u001b[1;32m      4\u001b[0m \u001b[0mprint\u001b[0m\u001b[0;34m(\u001b[0m\u001b[0;34m\"action:\\t\"\u001b[0m\u001b[0;34m,\u001b[0m \u001b[0mactor\u001b[0m\u001b[0;34m.\u001b[0m\u001b[0mcal_action\u001b[0m\u001b[0;34m(\u001b[0m\u001b[0mstate\u001b[0m\u001b[0;34m)\u001b[0m\u001b[0;34m)\u001b[0m\u001b[0;34m\u001b[0m\u001b[0;34m\u001b[0m\u001b[0m\n\u001b[1;32m      5\u001b[0m \u001b[0mprint\u001b[0m\u001b[0;34m(\u001b[0m\u001b[0;34m\"grad policy:\\n\"\u001b[0m\u001b[0;34m,\u001b[0m \u001b[0mactor\u001b[0m\u001b[0;34m.\u001b[0m\u001b[0mcal_grad_policy\u001b[0m\u001b[0;34m(\u001b[0m\u001b[0mstate\u001b[0m\u001b[0;34m)\u001b[0m\u001b[0;34m)\u001b[0m\u001b[0;34m\u001b[0m\u001b[0;34m\u001b[0m\u001b[0m\n\u001b[0;32m----> 6\u001b[0;31m \u001b[0mactor\u001b[0m\u001b[0;34m.\u001b[0m\u001b[0mupdate_weights\u001b[0m\u001b[0;34m(\u001b[0m\u001b[0mstate\u001b[0m\u001b[0;34m,\u001b[0m \u001b[0mnp\u001b[0m\u001b[0;34m.\u001b[0m\u001b[0mrandom\u001b[0m\u001b[0;34m.\u001b[0m\u001b[0mrandn\u001b[0m\u001b[0;34m(\u001b[0m\u001b[0;36m8\u001b[0m\u001b[0;34m)\u001b[0m\u001b[0;34m)\u001b[0m\u001b[0;34m\u001b[0m\u001b[0;34m\u001b[0m\u001b[0m\n\u001b[0m\u001b[1;32m      7\u001b[0m \u001b[0mprint\u001b[0m\u001b[0;34m(\u001b[0m\u001b[0mactor\u001b[0m\u001b[0;34m.\u001b[0m\u001b[0mweights\u001b[0m\u001b[0;34m)\u001b[0m\u001b[0;34m\u001b[0m\u001b[0;34m\u001b[0m\u001b[0m\n\u001b[1;32m      8\u001b[0m \u001b[0mgrad_policy\u001b[0m \u001b[0;34m=\u001b[0m \u001b[0mactor\u001b[0m\u001b[0;34m.\u001b[0m\u001b[0mcal_grad_policy\u001b[0m\u001b[0;34m(\u001b[0m\u001b[0mstate\u001b[0m\u001b[0;34m)\u001b[0m\u001b[0;34m\u001b[0m\u001b[0;34m\u001b[0m\u001b[0m\n",
      "\u001b[0;32m<ipython-input-66-bae6ff16fce0>\u001b[0m in \u001b[0;36mupdate_weights\u001b[0;34m(self, grad_policy, critic_weights)\u001b[0m\n\u001b[1;32m     17\u001b[0m \u001b[0;34m\u001b[0m\u001b[0m\n\u001b[1;32m     18\u001b[0m     \u001b[0;32mdef\u001b[0m \u001b[0mupdate_weights\u001b[0m\u001b[0;34m(\u001b[0m\u001b[0mself\u001b[0m\u001b[0;34m,\u001b[0m \u001b[0mgrad_policy\u001b[0m\u001b[0;34m,\u001b[0m \u001b[0mcritic_weights\u001b[0m\u001b[0;34m)\u001b[0m\u001b[0;34m:\u001b[0m\u001b[0;34m\u001b[0m\u001b[0;34m\u001b[0m\u001b[0m\n\u001b[0;32m---> 19\u001b[0;31m         \u001b[0;32massert\u001b[0m \u001b[0mcritic_weights\u001b[0m\u001b[0;34m.\u001b[0m\u001b[0mshape\u001b[0m\u001b[0;34m[\u001b[0m\u001b[0;36m0\u001b[0m\u001b[0;34m]\u001b[0m \u001b[0;34m==\u001b[0m \u001b[0mgrad_policy\u001b[0m\u001b[0;34m.\u001b[0m\u001b[0mshape\u001b[0m\u001b[0;34m[\u001b[0m\u001b[0;36m0\u001b[0m\u001b[0;34m]\u001b[0m  \u001b[0;31m# to ensure grad_policy & weights of critic are size compatible\u001b[0m\u001b[0;34m\u001b[0m\u001b[0;34m\u001b[0m\u001b[0m\n\u001b[0m\u001b[1;32m     20\u001b[0m         \u001b[0mself\u001b[0m\u001b[0;34m.\u001b[0m\u001b[0mweights\u001b[0m \u001b[0;34m+=\u001b[0m \u001b[0mself\u001b[0m\u001b[0;34m.\u001b[0m\u001b[0mlr\u001b[0m \u001b[0;34m*\u001b[0m \u001b[0mgrad_policy\u001b[0m \u001b[0;34m*\u001b[0m \u001b[0mgrad_policy\u001b[0m\u001b[0;34m.\u001b[0m\u001b[0mdot\u001b[0m\u001b[0;34m(\u001b[0m\u001b[0mcritic_weights\u001b[0m\u001b[0;34m)\u001b[0m\u001b[0;34m\u001b[0m\u001b[0;34m\u001b[0m\u001b[0m\n\u001b[1;32m     21\u001b[0m \u001b[0;34m\u001b[0m\u001b[0m\n",
      "\u001b[0;31mAssertionError\u001b[0m: "
     ]
    }
   ],
   "source": [
    "## TEST\n",
    "actor = Policy(8)\n",
    "state = env.observation_space.sample()\n",
    "print(\"action:\\t\", actor.cal_action(state))\n",
    "print(\"grad policy:\\n\", actor.cal_grad_policy(state))\n",
    "actor.update_weights(state, np.random.randn(8))\n",
    "print(actor.weights)\n",
    "grad_policy = actor.cal_grad_policy(state)"
   ]
  },
  {
   "cell_type": "markdown",
   "metadata": {},
   "source": [
    "# CRITIC - Action value function approximator\n",
    "The action value fucntion approximator is used as the **Critic**. It's chosen to be *compatible* with Deterministic Policy Gradient."
   ]
  },
  {
   "cell_type": "code",
   "execution_count": 123,
   "metadata": {},
   "outputs": [],
   "source": [
    "class CompatibleQFunction(object):\n",
    "    def __init__(self, num_features, lr=1e-3):\n",
    "        self.weights = np.zeros(num_features)\n",
    "        self.lr = lr\n",
    "        \n",
    "    def cal_action_value(self, _action, chosen_action, grad_policy, baseline_value):\n",
    "        '''\n",
    "        _action is of the 2nd input of Q(s, a)\n",
    "        state s is implied in chosen_action, grad_policy & baseline value\n",
    "        '''\n",
    "        assert grad_policy.shape[0] == self.weights.shape[0]  # ensure size compatible\n",
    "        return (_action - chosen_action) * grad_policy.dot(self.weights) + baseline_value\n",
    "    \n",
    "    def update_weights(self, td_error, grad_policy, behaviour_action, chosen_action):\n",
    "        self.weights += self.lr * td_error * (behaviour_action - chosen_action) * grad_policy\n",
    "        "
   ]
  },
  {
   "cell_type": "code",
   "execution_count": 45,
   "metadata": {},
   "outputs": [
    {
     "name": "stdout",
     "output_type": "stream",
     "text": [
      "[-0.84521248  0.91731723  0.99110287 -0.57381148 -0.52555923  0.92606003\n",
      "  0.00437175  0.99585207]\n",
      "action value:\t 1.0\n"
     ]
    }
   ],
   "source": [
    "# Test\n",
    "critic = CompatibleQFunction(8)\n",
    "behaviour_action = 0.1\n",
    "chosen_action = -0.2\n",
    "baseline_value = 1.\n",
    "print(grad_policy)\n",
    "print(\"action value:\\t\", critic.cal_action_value(state, behaviour_action, chosen_action, grad_policy, baseline_value))\n",
    "critic.update_weights(0.1, grad_policy, behaviour_action, chosen_action)"
   ]
  },
  {
   "cell_type": "markdown",
   "metadata": {},
   "source": [
    "# Behaviour Policy\n",
    "Beahviour policy is set to be a Gaussian distribution with fixed standard deviation"
   ]
  },
  {
   "cell_type": "code",
   "execution_count": 133,
   "metadata": {},
   "outputs": [],
   "source": [
    "SIGMA = 0.25 * (env.action_space.high[0] - env.action_space.low[0])\n",
    "def behaviour_policy(chosen_action):\n",
    "    return np.random.normal(chosen_action)"
   ]
  },
  {
   "cell_type": "code",
   "execution_count": 134,
   "metadata": {},
   "outputs": [
    {
     "name": "stdout",
     "output_type": "stream",
     "text": [
      "behave:\t [-1.13788086]\n",
      "[1.]\n"
     ]
    }
   ],
   "source": [
    "# Test\n",
    "chosen_action = env.action_space.sample()\n",
    "print(\"behave:\\t\", behaviour_policy(chosen_action))\n",
    "print(env.action_space.high)"
   ]
  },
  {
   "cell_type": "markdown",
   "metadata": {},
   "source": [
    "# Training "
   ]
  },
  {
   "cell_type": "code",
   "execution_count": 135,
   "metadata": {},
   "outputs": [],
   "source": [
    "NUM_FEATURES = 4 * 20\n",
    "GAMMA = 0.99"
   ]
  },
  {
   "cell_type": "code",
   "execution_count": 136,
   "metadata": {},
   "outputs": [],
   "source": [
    "def checkout_actor(i_episode, _actor):\n",
    "    state = env.reset()\n",
    "    for step in count():\n",
    "        act = _actor.cal_action(state)\n",
    "        new_state, reward, done, _= env.step([act])\n",
    "        if new_state[0] > 0.45:\n",
    "            done = True\n",
    "            reward = 1.\n",
    "        if done:\n",
    "            print(\"Episode %d [ACTOR] Finish after %d step\" % (i_episode, step+1))\n",
    "            print(\"-------------------------------------\")\n",
    "            break\n",
    "        # Move on \n",
    "        state = new_state"
   ]
  },
  {
   "cell_type": "code",
   "execution_count": 137,
   "metadata": {
    "scrolled": true
   },
   "outputs": [
    {
     "name": "stdout",
     "output_type": "stream",
     "text": [
      "TD error:\t-0.1717\n",
      "TD error:\t-0.1755\n",
      "Episode 0 finishes after 805 steps\n",
      "-------------------------------------\n",
      "Episode 0 [ACTOR] Finish after 2000 step\n",
      "-------------------------------------\n",
      "TD error:\t-0.0546\n",
      "TD error:\t-0.0366\n",
      "TD error:\t-0.0005\n",
      "TD error:\t-0.1196\n",
      "Episode 1 finishes after 2000 steps\n",
      "-------------------------------------\n",
      "TD error:\t0.0090\n",
      "TD error:\t-0.1471\n",
      "TD error:\t-0.4775\n",
      "TD error:\t0.0103\n",
      "Episode 2 finishes after 2000 steps\n",
      "-------------------------------------\n",
      "TD error:\t-0.3577\n",
      "TD error:\t0.0036\n",
      "TD error:\t0.0240\n",
      "TD error:\t-0.0495\n",
      "Episode 3 finishes after 2000 steps\n",
      "-------------------------------------\n",
      "TD error:\t-0.4618\n",
      "TD error:\t-0.2466\n",
      "TD error:\t-0.0978\n",
      "TD error:\t0.0191\n",
      "Episode 4 finishes after 2000 steps\n",
      "-------------------------------------\n",
      "TD error:\t-0.1354\n",
      "TD error:\t-0.6446\n",
      "TD error:\t-0.1746\n",
      "TD error:\t-0.0450\n",
      "Episode 5 finishes after 2000 steps\n",
      "-------------------------------------\n",
      "TD error:\t0.0253\n",
      "TD error:\t-0.0041\n",
      "TD error:\t-1.3340\n",
      "TD error:\t-0.0087\n",
      "Episode 6 finishes after 2000 steps\n",
      "-------------------------------------\n",
      "TD error:\t-0.0196\n",
      "TD error:\t0.0130\n",
      "TD error:\t-0.1047\n",
      "TD error:\t-0.0540\n",
      "Episode 7 finishes after 1544 steps\n",
      "-------------------------------------\n",
      "TD error:\t0.0003\n",
      "TD error:\t-0.0282\n",
      "Episode 8 finishes after 676 steps\n",
      "-------------------------------------\n",
      "TD error:\t0.0247\n",
      "TD error:\t-0.0490\n",
      "TD error:\t-0.0265\n",
      "Episode 9 finishes after 1168 steps\n",
      "-------------------------------------\n",
      "TD error:\t-0.0493\n",
      "TD error:\t-0.0487\n",
      "Episode 10 finishes after 918 steps\n",
      "-------------------------------------\n",
      "Episode 10 [ACTOR] Finish after 2000 step\n",
      "-------------------------------------\n",
      "TD error:\t-0.0955\n",
      "Episode 11 finishes after 483 steps\n",
      "-------------------------------------\n",
      "TD error:\t0.0336\n",
      "TD error:\t-0.0009\n",
      "Episode 12 finishes after 555 steps\n",
      "-------------------------------------\n",
      "TD error:\t-0.0541\n",
      "TD error:\t-0.0150\n",
      "Episode 13 finishes after 633 steps\n",
      "-------------------------------------\n",
      "TD error:\t-0.6059\n",
      "TD error:\t-0.2719\n",
      "Episode 14 finishes after 782 steps\n",
      "-------------------------------------\n",
      "TD error:\t-0.3947\n",
      "TD error:\t-0.5320\n",
      "Episode 15 finishes after 885 steps\n",
      "-------------------------------------\n",
      "TD error:\t-0.1340\n",
      "TD error:\t0.0136\n",
      "Episode 16 finishes after 612 steps\n",
      "-------------------------------------\n",
      "TD error:\t-0.0162\n",
      "Episode 17 finishes after 456 steps\n",
      "-------------------------------------\n",
      "TD error:\t0.0330\n",
      "TD error:\t0.0019\n",
      "Episode 18 finishes after 674 steps\n",
      "-------------------------------------\n",
      "TD error:\t-0.0359\n",
      "TD error:\t-0.0086\n",
      "Episode 19 finishes after 756 steps\n",
      "-------------------------------------\n",
      "TD error:\t-0.1894\n",
      "Episode 20 finishes after 404 steps\n",
      "-------------------------------------\n",
      "Episode 20 [ACTOR] Finish after 2000 step\n",
      "-------------------------------------\n",
      "TD error:\t0.0144\n",
      "TD error:\t-0.0832\n",
      "Episode 21 finishes after 620 steps\n",
      "-------------------------------------\n",
      "TD error:\t0.0294\n",
      "TD error:\t-0.2644\n",
      "Episode 22 finishes after 827 steps\n",
      "-------------------------------------\n",
      "TD error:\t-0.0655\n",
      "TD error:\t0.0242\n",
      "Episode 23 finishes after 583 steps\n",
      "-------------------------------------\n",
      "TD error:\t0.0323\n",
      "TD error:\t-0.4313\n",
      "Episode 24 finishes after 657 steps\n",
      "-------------------------------------\n",
      "TD error:\t-0.1967\n",
      "TD error:\t-0.0284\n",
      "Episode 25 finishes after 528 steps\n",
      "-------------------------------------\n",
      "TD error:\t-0.0778\n",
      "TD error:\t-0.0592\n",
      "Episode 26 finishes after 814 steps\n",
      "-------------------------------------\n",
      "TD error:\t-0.0476\n",
      "TD error:\t-0.3311\n",
      "Episode 27 finishes after 536 steps\n",
      "-------------------------------------\n",
      "TD error:\t-0.4011\n",
      "Episode 28 finishes after 415 steps\n",
      "-------------------------------------\n",
      "TD error:\t-0.0318\n",
      "TD error:\t-0.0595\n",
      "Episode 29 finishes after 804 steps\n",
      "-------------------------------------\n"
     ]
    }
   ],
   "source": [
    "# Init Actor, Critic, & Baseline function\n",
    "actor = Policy(NUM_FEATURES)\n",
    "critic = CompatibleQFunction(NUM_FEATURES)\n",
    "baseline = BaseLine(NUM_FEATURES)\n",
    "\n",
    "max_episode = 30\n",
    "for i_episode in range(max_episode):\n",
    "    state = env.reset()\n",
    "    chosen_act = actor.cal_action(state)\n",
    "    for step in count():\n",
    "        # Find behaviour action\n",
    "        behave_act = behaviour_policy(chosen_act)\n",
    "        # Take behave_act, observe new state & reward\n",
    "        new_state, reward, done, _ = env.step([behave_act])\n",
    "        if new_state[0] > 0.45:\n",
    "            done = True\n",
    "            reward = 1.\n",
    "        # calculate new action using actor\n",
    "        new_chosen_act = actor.cal_action(new_state)\n",
    "        # calculate TD error\n",
    "        grad_policy = actor.cal_grad_policy(state)\n",
    "        new_grad_policy = actor.cal_grad_policy(new_state)\n",
    "        \n",
    "        if not done:\n",
    "            td_target = reward + GAMMA * critic.cal_action_value(new_chosen_act, \n",
    "                                                                new_chosen_act, \n",
    "                                                                new_grad_policy, \n",
    "                                                                baseline.cal_state_value(new_state))\n",
    "        else:\n",
    "            td_target = reward\n",
    "            \n",
    "        td_error = td_target - critic.cal_action_value(behave_act,\n",
    "                                                      chosen_act,\n",
    "                                                      grad_policy,\n",
    "                                                      baseline.cal_state_value(state))\n",
    "        # Update weights\n",
    "        actor.update_weights(grad_policy, critic.weights)\n",
    "        critic.update_weights(td_error, grad_policy, behave_act, chosen_act)\n",
    "        baseline.update_weights(td_error, state)\n",
    "        \n",
    "        if done:\n",
    "            print(\"Episode %d finishes after %d steps\" % (i_episode, step + 1))\n",
    "            print(\"-------------------------------------\")\n",
    "            break\n",
    "        else:\n",
    "            if step % 500 == 0: print(\"TD error:\\t%.4f\" % td_error)\n",
    "        \n",
    "        # Move on\n",
    "        state = new_state\n",
    "        chosen_act = new_chosen_act\n",
    "        \n",
    "    if i_episode % 10 == 0:\n",
    "        checkout_actor(i_episode, actor)\n",
    "        "
   ]
  },
  {
   "cell_type": "markdown",
   "metadata": {},
   "source": [
    "## Statistic"
   ]
  },
  {
   "cell_type": "code",
   "execution_count": 83,
   "metadata": {},
   "outputs": [],
   "source": [
    "def plotValueFunc(value_approx):\n",
    "    x_vect = np.linspace(env.observation_space.low[0], env.observation_space.high[0], num=50)\n",
    "    xdot_vect = np.linspace(env.observation_space.low[1], env.observation_space.high[1], num=50)\n",
    "    x, xdot = np.meshgrid(x_vect, xdot_vect)\n",
    "    state_value = np.zeros(x.shape)\n",
    "    for i in range(x.shape[0]):\n",
    "        for j in range(x.shape[1]):\n",
    "            state = np.array([x[i, j], xdot[i, j]])\n",
    "            state_value[i, j] = value_approx.cal_state_value(state)\n",
    "    # plot Value function\n",
    "    fig = plt.figure(100)\n",
    "    ax = fig.gca(projection='3d')\n",
    "    surf = ax.plot_surface(x, xdot, -state_value, cmap=cm.coolwarm, linewidth=0, antialiased=False)\n",
    "    ax.set_xlabel('Position')\n",
    "    ax.set_ylabel('Velocity')\n",
    "    ax.set_zlabel('Value')\n",
    "    ax.set_title(\"Mountain \\\"Cost To Go\\\" Function\")\n",
    "    plt.show()"
   ]
  },
  {
   "cell_type": "code",
   "execution_count": 138,
   "metadata": {},
   "outputs": [
    {
     "data": {
      "image/png": "[encoded data removed]",
      "text/plain": [
       "<Figure size 432x288 with 1 Axes>"
      ]
     },
     "metadata": {
      "needs_background": "light"
     },
     "output_type": "display_data"
    }
   ],
   "source": [
    "plotValueFunc(baseline)"
   ]
  },
  {
   "cell_type": "code",
   "execution_count": 140,
   "metadata": {},
   "outputs": [
    {
     "name": "stdout",
     "output_type": "stream",
     "text": [
      "Episode 30 [ACTOR] Finish after 522 step\n",
      "-------------------------------------\n"
     ]
    }
   ],
   "source": [
    "checkout_actor(30, actor)"
   ]
  },
  {
   "cell_type": "code",
   "execution_count": null,
   "metadata": {},
   "outputs": [],
   "source": []
  }
 ],
 "metadata": {
  "kernelspec": {
   "display_name": "Python 3",
   "language": "python",
   "name": "python3"
  },
  "language_info": {
   "codemirror_mode": {
    "name": "ipython",
    "version": 3
   },
   "file_extension": ".py",
   "mimetype": "text/x-python",
   "name": "python",
   "nbconvert_exporter": "python",
   "pygments_lexer": "ipython3",
   "version": "3.6.7"
  }
 },
 "nbformat": 4,
 "nbformat_minor": 2
}
