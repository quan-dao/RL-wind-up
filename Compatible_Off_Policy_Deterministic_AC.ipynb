{
 "cells": [
  {
   "cell_type": "code",
   "execution_count": 48,
   "metadata": {},
   "outputs": [
    {
     "name": "stdout",
     "output_type": "stream",
     "text": [
      "\u001b[33mWARN: gym.spaces.Box autodetected dtype as <class 'numpy.float32'>. Please provide explicit dtype.\u001b[0m\n",
      "\u001b[33mWARN: gym.spaces.Box autodetected dtype as <class 'numpy.float32'>. Please provide explicit dtype.\u001b[0m\n"
     ]
    },
    {
     "name": "stderr",
     "output_type": "stream",
     "text": [
      "/home/mquan/anaconda3/lib/python3.6/site-packages/gym/envs/registration.py:14: PkgResourcesDeprecationWarning: Parameters to load are deprecated.  Call .resolve and .require separately.\n",
      "  result = entry_point.load(False)\n"
     ]
    }
   ],
   "source": [
    "import gym\n",
    "import numpy as np\n",
    "import random\n",
    "import math\n",
    "from itertools import count\n",
    "\n",
    "import sklearn.pipeline\n",
    "import sklearn.preprocessing\n",
    "from sklearn.linear_model import SGDRegressor\n",
    "from sklearn.kernel_approximation import RBFSampler\n",
    "\n",
    "from mpl_toolkits.mplot3d import Axes3D\n",
    "import matplotlib.pyplot as plt\n",
    "from matplotlib import cm\n",
    "from matplotlib.ticker import LinearLocator, FormatStrFormatter\n",
    "\n",
    "\n",
    "env = gym.envs.make(\"MountainCarContinuous-v0\")\n",
    "env._max_episode_steps = 2000\n",
    "# print(\"Action space: \", env.action_space, \"\\nHigh: \", env.action_space.high, \"Low: \", env.action_space.low)\n",
    "# print(\"Observation space: \", env.observation_space, \"\\nHigh: \", env.observation_space.high, \"Low: \", env.observation_space.low)"
   ]
  },
  {
   "cell_type": "markdown",
   "metadata": {},
   "source": [
    "# Abstract class of Baseline & Policy  \n",
    "Key point of this class is the definition of the featurizer based on Radial Basis Function (RBF). This featurizer is used for featurizing state before calculating the value of the Baseline or the action produce by the Policy."
   ]
  },
  {
   "cell_type": "code",
   "execution_count": 64,
   "metadata": {},
   "outputs": [],
   "source": [
    "class PolicyGradient(object):\n",
    "    def __init__(self, num_features, _examples):\n",
    "        '''\n",
    "        num_features: define len of weights vector of the linear model (used as either Actor or Critic)\n",
    "        _examples: sample for either observation space or (obs, act) space to normalize the scaler to \n",
    "                    zero mean & unit variance\n",
    "        '''\n",
    "        assert num_features % 4 == 0  # 4 featurizers\n",
    "        self.weights = np.zeros(num_features)\n",
    "        # define & normalize scaler\n",
    "        self.scaler = sklearn.preprocessing.StandardScaler()\n",
    "        self.scaler.fit(_examples)\n",
    "        # define featurizer\n",
    "        num_components = num_features // 4\n",
    "        self.featurizer = state_featurizer = sklearn.pipeline.FeatureUnion([\n",
    "                (\"rbf1\", RBFSampler(gamma=5.0, n_components=num_components)),\n",
    "                (\"rbf2\", RBFSampler(gamma=2.0, n_components=num_components)),\n",
    "                (\"rbf3\", RBFSampler(gamma=1.0, n_components=num_components)),\n",
    "                (\"rbf4\", RBFSampler(gamma=0.5, n_components=num_components))\n",
    "                ])\n",
    "        self.featurizer.fit(self.scaler.transform(_examples))\n",
    "        \n",
    "    def featurize(self, *argv):\n",
    "        '''\n",
    "        Accepted input: state or state, action\n",
    "        '''\n",
    "        assert len(argv) in [1, 2]\n",
    "        if len(argv) == 2:\n",
    "            # featurize a (state, action) pair\n",
    "            scaled = self.scaler.transform([np.append(argv[0], argv[1])])\n",
    "        else:\n",
    "            # featurize a state\n",
    "            scaled = self.scaler.transform([argv[0]])\n",
    "        # invoke the featurizer\n",
    "        featurized = self.featurizer.transform(scaled)\n",
    "        return featurized[0]"
   ]
  },
  {
   "cell_type": "markdown",
   "metadata": {},
   "source": [
    "## Definition of the Baseline\n",
    "The Baseline is a **Linear** Function Approximator. It aims to estimate the state value function V(s)"
   ]
  },
  {
   "cell_type": "code",
   "execution_count": 65,
   "metadata": {},
   "outputs": [],
   "source": [
    "class BaseLine(PolicyGradient):\n",
    "    def __init__(self, num_features, lr=1e-3):\n",
    "        observation_examples = np.array([env.observation_space.sample() for x in range(1000)])\n",
    "        super().__init__(num_features, observation_examples)\n",
    "        self.lr =  1e-3\n",
    "    \n",
    "    def cal_state_value(self, state):\n",
    "        return self.weights.dot(self.featurize(state))\n",
    "    \n",
    "    def update_weights(self, td_error, state, td_correction):\n",
    "        self.weights += self.lr * td_error * self.featurize(state) - self.lr * td_correction"
   ]
  },
  {
   "cell_type": "markdown",
   "metadata": {},
   "source": [
    "## ACTOR - Definition of the Policy\n",
    "Policy is a **Linear** function calculating the action which is then taken by the agent, given the agent's current state (s). Hence, the Policy is deterministic."
   ]
  },
  {
   "cell_type": "code",
   "execution_count": 66,
   "metadata": {},
   "outputs": [],
   "source": [
    "class Policy(PolicyGradient):\n",
    "    def __init__(self, num_features, lr=1e-3):\n",
    "        observation_examples = np.array([env.observation_space.sample() for x in range(1000)])\n",
    "        super().__init__(num_features, observation_examples)\n",
    "        self.lr = 1e-3\n",
    "    \n",
    "    def cal_action(self, state):\n",
    "        return self.weights.dot(self.featurize(state))\n",
    "    \n",
    "    def cal_grad_policy(self, state):\n",
    "        '''\n",
    "        calculate the gradient of the policy w.r.t its weights. \n",
    "        The policy is chosen to be a linear combination of weights & features vector,\n",
    "        so its grad is just the features vector\n",
    "        '''\n",
    "        return self.featurize(state)\n",
    "    \n",
    "    def update_weights(self, grad_policy, critic_weights):\n",
    "        assert critic_weights.shape[0] == grad_policy.shape[0]  # to ensure grad_policy & weights of critic are size compatible\n",
    "        self.weights += self.lr * grad_policy * grad_policy.dot(critic_weights)\n",
    "                                 "
   ]
  },
  {
   "cell_type": "markdown",
   "metadata": {},
   "source": [
    "# CRITIC - Action value function approximator\n",
    "The action value fucntion approximator is used as the **Critic**. It's chosen to be *compatible* with Deterministic Policy Gradient.\n",
    "\\begin{equation*}\n",
    "Q^{w}(s,a) = \\left(a - \\mu_{\\theta}(s) \\right)^T \\nabla_{\\theta} \\mu_{\\theta}^T w + V^{v}(s)\n",
    "\\end{equation*}\n",
    "Here $a$ is the action produced by the behaviour bolicy which is later chosen to be Gaussian policy with fixed standard deviation.\n",
    "\\begin{equation*}\n",
    "a_t \\sim \\mathcal{N}(\\mu_{\\theta}(s_t), \\sigma^2)\n",
    "\\end{equation*}\n",
    "The feature vector of a state-action pair $\\phi(s_t, a_t)$ is\n",
    "\\begin{equation*}\n",
    "\\phi(s_t, a_t) = \\nabla_{\\theta} \\mu_{\\theta}(s_t)a_t\n",
    "\\end{equation*}\n",
    "The action $a_t$ can be either produced by the behaviour policy or the actor (i.e. the target policy)."
   ]
  },
  {
   "cell_type": "code",
   "execution_count": 67,
   "metadata": {},
   "outputs": [],
   "source": [
    "class CompatibleQFunction(object):\n",
    "    def __init__(self, num_features, lr=1e-3):\n",
    "        self.weights = np.zeros(num_features)\n",
    "        self.lr = lr\n",
    "        \n",
    "    def cal_action_value(self, _action, chosen_action, grad_policy, baseline_value):\n",
    "        '''\n",
    "        _action is of the 2nd input of Q(s, a)\n",
    "        state s is implied in chosen_action, grad_policy & baseline value\n",
    "        '''\n",
    "        assert grad_policy.shape[0] == self.weights.shape[0]  # ensure size compatible\n",
    "        return (_action - chosen_action) * grad_policy.dot(self.weights) + baseline_value\n",
    "    \n",
    "    def featurize(self, grad_policy, _action):\n",
    "        return grad_policy * _action\n",
    "    \n",
    "    def update_weights(self, td_error, grad_policy, behaviour_action, chosen_action, td_correction):\n",
    "        self.weights += self.lr * td_error * (behaviour_action - chosen_action) * grad_policy - \\\n",
    "                        self.lr * td_correction\n",
    "        "
   ]
  },
  {
   "cell_type": "markdown",
   "metadata": {},
   "source": [
    "# Approximator of 2 Expectations in Mean Square Bellman Projected Error (MSBPE\n",
    "Another set of parameters $u$ is used to estimate two expectation in MSBPE\n",
    "\\begin{equation*}\n",
    "u \\approx \\mathbb{E}\\left[\\phi \\phi^T \\right]^{-1}\\mathbb{E}\\left[\\delta \\phi \\right]\n",
    "\\end{equation*}\n",
    "With $\\phi = \\phi(s_t, a_t)$ is the features vector of state-action pair, $\\delta$ is the (one-step) TD error."
   ]
  },
  {
   "cell_type": "code",
   "execution_count": 68,
   "metadata": {},
   "outputs": [],
   "source": [
    "class MSBPEestimator(object):\n",
    "    def __init__(self, num_features, lr=1e-3):\n",
    "        self.weights = np.zeros(num_features)\n",
    "        self.lr = lr\n",
    "    \n",
    "    def update_weights(self, td_error, state_act_features_vect):\n",
    "        self.weights += self.lr * (td_error - state_act_features_vect.dot(self.weights)) * state_act_features_vect"
   ]
  },
  {
   "cell_type": "markdown",
   "metadata": {},
   "source": [
    "# Behaviour Policy\n",
    "Beahviour policy is set to be a Gaussian distribution with fixed standard deviation"
   ]
  },
  {
   "cell_type": "code",
   "execution_count": 69,
   "metadata": {},
   "outputs": [],
   "source": [
    "SIGMA = 0.25 * (env.action_space.high[0] - env.action_space.low[0])\n",
    "def behaviour_policy(chosen_action):\n",
    "    return np.random.normal(chosen_action)"
   ]
  },
  {
   "cell_type": "markdown",
   "metadata": {},
   "source": [
    "# Training "
   ]
  },
  {
   "cell_type": "code",
   "execution_count": 70,
   "metadata": {},
   "outputs": [],
   "source": [
    "NUM_FEATURES = 4 * 30\n",
    "GAMMA = 0.99"
   ]
  },
  {
   "cell_type": "code",
   "execution_count": 71,
   "metadata": {},
   "outputs": [],
   "source": [
    "def checkout_actor(i_episode, _actor):\n",
    "    state = env.reset()\n",
    "    ans = 0\n",
    "    for step in count():\n",
    "        act = _actor.cal_action(state)\n",
    "        new_state, reward, done, _= env.step([act])\n",
    "        if new_state[0] > 0.45:\n",
    "            done = True\n",
    "            reward = 1.\n",
    "        if done:\n",
    "            print(\"Episode %d [ACTOR] Finish after %d step\" % (i_episode, step+1))\n",
    "            print(\"-------------------------------------\")\n",
    "            ans = step + 1\n",
    "            break\n",
    "        # Move on \n",
    "        state = new_state\n",
    "    return ans"
   ]
  },
  {
   "cell_type": "markdown",
   "metadata": {},
   "source": [
    "## Statistic"
   ]
  },
  {
   "cell_type": "code",
   "execution_count": 72,
   "metadata": {},
   "outputs": [],
   "source": [
    "abs_u_per_episode = []\n",
    "actor_step_per_episode = []"
   ]
  },
  {
   "cell_type": "code",
   "execution_count": 73,
   "metadata": {
    "scrolled": true
   },
   "outputs": [
    {
     "name": "stdout",
     "output_type": "stream",
     "text": [
      "TD error:\t-0.0538\n",
      "TD error:\t-0.0395\n",
      "TD error:\t-0.0812\n",
      "TD error:\t-0.1425\n",
      "Episode 0 finishes after 2000 steps\n",
      "-------------------------------------\n",
      "Episode 0 [ACTOR] Finish after 2000 step\n",
      "-------------------------------------\n",
      "TD error:\t-0.1763\n",
      "TD error:\t-0.2732\n",
      "TD error:\t-0.1530\n",
      "TD error:\t-0.0076\n",
      "Episode 1 finishes after 2000 steps\n",
      "-------------------------------------\n",
      "TD error:\t-0.3811\n",
      "TD error:\t-0.0344\n",
      "TD error:\t-0.5475\n",
      "TD error:\t0.0209\n",
      "Episode 2 finishes after 2000 steps\n",
      "-------------------------------------\n",
      "TD error:\t-0.2348\n",
      "TD error:\t0.0172\n",
      "TD error:\t-0.5331\n",
      "Episode 3 finishes after 1127 steps\n",
      "-------------------------------------\n",
      "TD error:\t-0.0058\n",
      "TD error:\t-0.0206\n",
      "TD error:\t-0.0038\n",
      "TD error:\t0.0260\n",
      "Episode 4 finishes after 2000 steps\n",
      "-------------------------------------\n",
      "TD error:\t0.0155\n",
      "TD error:\t-0.5725\n",
      "TD error:\t-0.1067\n",
      "TD error:\t-0.0240\n",
      "Episode 5 finishes after 1941 steps\n",
      "-------------------------------------\n",
      "TD error:\t-0.0405\n",
      "TD error:\t-0.0126\n",
      "TD error:\t-0.1816\n",
      "TD error:\t0.0038\n",
      "Episode 6 finishes after 1943 steps\n",
      "-------------------------------------\n",
      "TD error:\t0.0214\n",
      "TD error:\t0.0026\n",
      "TD error:\t-0.2105\n",
      "TD error:\t-0.2410\n",
      "Episode 7 finishes after 2000 steps\n",
      "-------------------------------------\n",
      "TD error:\t0.0222\n",
      "Episode 8 finishes after 351 steps\n",
      "-------------------------------------\n",
      "TD error:\t0.0302\n",
      "TD error:\t-0.1212\n",
      "TD error:\t-0.3640\n",
      "TD error:\t-0.1402\n",
      "Episode 9 finishes after 1663 steps\n",
      "-------------------------------------\n",
      "TD error:\t0.0323\n",
      "TD error:\t0.0008\n",
      "Episode 10 finishes after 754 steps\n",
      "-------------------------------------\n",
      "Episode 10 [ACTOR] Finish after 2000 step\n",
      "-------------------------------------\n",
      "TD error:\t-0.0345\n",
      "TD error:\t0.0371\n",
      "Episode 11 finishes after 529 steps\n",
      "-------------------------------------\n",
      "TD error:\t-0.2865\n",
      "TD error:\t-0.0926\n",
      "TD error:\t0.0357\n",
      "Episode 12 finishes after 1428 steps\n",
      "-------------------------------------\n",
      "TD error:\t0.0300\n",
      "TD error:\t0.0497\n",
      "Episode 13 finishes after 982 steps\n",
      "-------------------------------------\n",
      "TD error:\t-0.0335\n",
      "TD error:\t-0.0483\n",
      "Episode 14 finishes after 766 steps\n",
      "-------------------------------------\n",
      "TD error:\t-0.0201\n",
      "TD error:\t-0.2483\n",
      "Episode 15 finishes after 801 steps\n",
      "-------------------------------------\n",
      "TD error:\t-0.0193\n",
      "TD error:\t-0.0432\n",
      "TD error:\t0.0387\n",
      "Episode 16 finishes after 1347 steps\n",
      "-------------------------------------\n",
      "TD error:\t-0.0171\n",
      "TD error:\t0.0414\n",
      "Episode 17 finishes after 749 steps\n",
      "-------------------------------------\n",
      "TD error:\t0.0106\n",
      "TD error:\t0.0299\n",
      "TD error:\t-0.0332\n",
      "TD error:\t-0.1169\n",
      "Episode 18 finishes after 1929 steps\n",
      "-------------------------------------\n",
      "TD error:\t-0.0702\n",
      "TD error:\t0.0640\n",
      "Episode 19 finishes after 507 steps\n",
      "-------------------------------------\n",
      "TD error:\t-0.0132\n",
      "TD error:\t-0.4183\n",
      "TD error:\t-0.2434\n",
      "TD error:\t-0.0887\n",
      "Episode 20 finishes after 1997 steps\n",
      "-------------------------------------\n",
      "Episode 20 [ACTOR] Finish after 2000 step\n",
      "-------------------------------------\n",
      "TD error:\t0.0030\n",
      "Episode 21 finishes after 430 steps\n",
      "-------------------------------------\n",
      "TD error:\t0.0185\n",
      "TD error:\t0.0332\n",
      "Episode 22 finishes after 559 steps\n",
      "-------------------------------------\n",
      "TD error:\t-0.1690\n",
      "TD error:\t-0.1242\n",
      "Episode 23 finishes after 511 steps\n",
      "-------------------------------------\n",
      "TD error:\t-0.1047\n",
      "Episode 24 finishes after 331 steps\n",
      "-------------------------------------\n",
      "TD error:\t0.0365\n",
      "TD error:\t-0.0808\n",
      "Episode 25 finishes after 763 steps\n",
      "-------------------------------------\n",
      "TD error:\t-0.2912\n",
      "TD error:\t-0.5104\n",
      "Episode 26 finishes after 965 steps\n",
      "-------------------------------------\n",
      "TD error:\t-0.1311\n",
      "TD error:\t-0.0238\n",
      "TD error:\t0.1359\n",
      "Episode 27 finishes after 1034 steps\n",
      "-------------------------------------\n",
      "TD error:\t-0.2446\n",
      "Episode 28 finishes after 296 steps\n",
      "-------------------------------------\n",
      "TD error:\t-0.3400\n",
      "TD error:\t-0.0896\n",
      "Episode 29 finishes after 1001 steps\n",
      "-------------------------------------\n",
      "TD error:\t0.0506\n",
      "Episode 30 finishes after 444 steps\n",
      "-------------------------------------\n",
      "Episode 30 [ACTOR] Finish after 334 step\n",
      "-------------------------------------\n"
     ]
    }
   ],
   "source": [
    "# Init Actor, Critic, & Baseline function\n",
    "actor = Policy(NUM_FEATURES)\n",
    "critic = CompatibleQFunction(NUM_FEATURES)\n",
    "baseline = BaseLine(NUM_FEATURES)\n",
    "u = MSBPEestimator(NUM_FEATURES)  # for TD correction\n",
    "\n",
    "max_episode = 31\n",
    "for i_episode in range(max_episode):\n",
    "    state = env.reset()\n",
    "    chosen_act = actor.cal_action(state)\n",
    "    for step in count():\n",
    "        # Find behaviour action\n",
    "        behave_act = behaviour_policy(chosen_act)\n",
    "        # Take behave_act, observe new state & reward\n",
    "        new_state, reward, done, _ = env.step([behave_act])\n",
    "        if new_state[0] > 0.45:\n",
    "            done = True\n",
    "            reward = 1.\n",
    "        # calculate new action using actor\n",
    "        new_chosen_act = actor.cal_action(new_state)\n",
    "        # calculate TD error\n",
    "        grad_policy = actor.cal_grad_policy(state)\n",
    "        new_grad_policy = actor.cal_grad_policy(new_state)\n",
    "        \n",
    "        if not done:\n",
    "            td_target = reward + GAMMA * critic.cal_action_value(new_chosen_act, \n",
    "                                                                new_chosen_act, \n",
    "                                                                new_grad_policy, \n",
    "                                                                baseline.cal_state_value(new_state))\n",
    "        else:\n",
    "            td_target = reward\n",
    "            \n",
    "        td_error = td_target - critic.cal_action_value(behave_act,\n",
    "                                                      chosen_act,\n",
    "                                                      grad_policy,\n",
    "                                                      baseline.cal_state_value(state))\n",
    "        # Update weights\n",
    "        actor.update_weights(grad_policy, critic.weights)\n",
    "        # calculate correction term for critic & baseline (i.e. approximation of state value V(s))\n",
    "        state_behaveAct_features_vect = critic.featurize(grad_policy, behave_act)\n",
    "        \n",
    "        critic_td_correction = GAMMA * critic.featurize(new_grad_policy, new_chosen_act) * \\\n",
    "                                        state_behaveAct_features_vect.dot(u.weights)\n",
    "        baseline_td_correction = GAMMA * baseline.featurize(new_state) * \\\n",
    "                                        state_behaveAct_features_vect.dot(u.weights)\n",
    "        \n",
    "        critic.update_weights(td_error, grad_policy, behave_act, chosen_act, critic_td_correction)\n",
    "        baseline.update_weights(td_error, state, baseline_td_correction)\n",
    "        u.update_weights(td_error, state_behaveAct_features_vect)\n",
    "        \n",
    "        if done:\n",
    "            print(\"Episode %d finishes after %d steps\" % (i_episode, step + 1))\n",
    "            print(\"-------------------------------------\")\n",
    "            break\n",
    "        else:\n",
    "            if step % 500 == 0: print(\"TD error:\\t%.4f\" % td_error)\n",
    "        \n",
    "        # Move on\n",
    "        state = new_state\n",
    "        chosen_act = new_chosen_act\n",
    "        \n",
    "    if i_episode % 10 == 0:\n",
    "        actor_step_per_episode.append(checkout_actor(i_episode, actor))\n",
    "    # store sum square of u\n",
    "    abs_u_per_episode.append(np.absolute(u.weights).sum())\n",
    "        "
   ]
  },
  {
   "cell_type": "markdown",
   "metadata": {},
   "source": [
    "## Statistic"
   ]
  },
  {
   "cell_type": "code",
   "execution_count": 59,
   "metadata": {},
   "outputs": [],
   "source": [
    "def plotValueFunc(value_approx):\n",
    "    x_vect = np.linspace(env.observation_space.low[0], env.observation_space.high[0], num=50)\n",
    "    xdot_vect = np.linspace(env.observation_space.low[1], env.observation_space.high[1], num=50)\n",
    "    x, xdot = np.meshgrid(x_vect, xdot_vect)\n",
    "    state_value = np.zeros(x.shape)\n",
    "    for i in range(x.shape[0]):\n",
    "        for j in range(x.shape[1]):\n",
    "            state = np.array([x[i, j], xdot[i, j]])\n",
    "            state_value[i, j] = value_approx.cal_state_value(state)\n",
    "    # plot Value function\n",
    "    fig = plt.figure(100)\n",
    "    ax = fig.gca(projection='3d')\n",
    "    surf = ax.plot_surface(x, xdot, -state_value, cmap=cm.coolwarm, linewidth=0, antialiased=False)\n",
    "    ax.set_xlabel('Position')\n",
    "    ax.set_ylabel('Velocity')\n",
    "    ax.set_zlabel('Value')\n",
    "    ax.set_title(\"Mountain \\\"Cost To Go\\\" Function\")\n",
    "    plt.show()"
   ]
  },
  {
   "cell_type": "code",
   "execution_count": 74,
   "metadata": {},
   "outputs": [
    {
     "data": {
      "image/png": "[encoded data removed]",
      "text/plain": [
       "<Figure size 432x288 with 1 Axes>"
      ]
     },
     "metadata": {
      "needs_background": "light"
     },
     "output_type": "display_data"
    }
   ],
   "source": [
    "plotValueFunc(baseline)"
   ]
  },
  {
   "cell_type": "code",
   "execution_count": 75,
   "metadata": {},
   "outputs": [
    {
     "data": {
      "image/png": "[encoded data removed]",
      "text/plain": [
       "<Figure size 432x288 with 1 Axes>"
      ]
     },
     "metadata": {
      "needs_background": "light"
     },
     "output_type": "display_data"
    }
   ],
   "source": [
    "plt.figure(2)\n",
    "plt.plot([0, 10, 20, 30], actor_step_per_episode, '*', markersize=8)\n",
    "plt.grid()\n",
    "plt.show()"
   ]
  },
  {
   "cell_type": "code",
   "execution_count": 76,
   "metadata": {},
   "outputs": [
    {
     "data": {
      "image/png": "[encoded data removed]",
      "text/plain": [
       "<Figure size 432x288 with 1 Axes>"
      ]
     },
     "metadata": {
      "needs_background": "light"
     },
     "output_type": "display_data"
    }
   ],
   "source": [
    "plt.figure(5)\n",
    "plt.plot(abs_u_per_episode)\n",
    "plt.grid()\n",
    "plt.show()"
   ]
  },
  {
   "cell_type": "code",
   "execution_count": null,
   "metadata": {},
   "outputs": [],
   "source": []
  }
 ],
 "metadata": {
  "kernelspec": {
   "display_name": "Python 3",
   "language": "python",
   "name": "python3"
  },
  "language_info": {
   "codemirror_mode": {
    "name": "ipython",
    "version": 3
   },
   "file_extension": ".py",
   "mimetype": "text/x-python",
   "name": "python",
   "nbconvert_exporter": "python",
   "pygments_lexer": "ipython3",
   "version": "3.6.7"
  }
 },
 "nbformat": 4,
 "nbformat_minor": 2
}
